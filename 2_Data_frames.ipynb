{
 "cells": [
  {
   "cell_type": "code",
   "execution_count": 1,
   "id": "149dd675-1d1d-4df8-a850-37bf047d952d",
   "metadata": {},
   "outputs": [],
   "source": [
    "#load libraries\n",
    "import numpy as np\n",
    "import pandas as pd\n",
    "import seaborn as sns\n",
    "import matplotlib.pyplot as plt"
   ]
  },
  {
   "cell_type": "markdown",
   "id": "1c01d25c-20ab-479b-905e-ee27ccbb7c7d",
   "metadata": {
    "tags": []
   },
   "source": [
    "# Análisis de Datos con Pandas\n",
    "### Virginia Domínguex García - Estación Biológica de Doñana - CSIC\n",
    "\n",
    "Pandas es la herramienta de Python para trabajr con archivos csv, xlsx y demás bases de datos \"cuadradas\". Funciona de una forma similar a las dataframes de R, pero con algunas diferencias. \n",
    "Aquí podéis encontrar un chuletero con todas las cosas a recordar:\n",
    "https://raw.githubusercontent.com/pandas-dev/pandas/main/doc/cheatsheet/Pandas_Cheat_Sheet.pdf\n",
    "\n",
    "**Tidy-Data:** En general Pandas mantiene la filosofía de tidy data, cada variables aparece en una **columna** y cada observación en una **fila**. Pandas automáticamente hace las operaciones vectoriales automáticamente, manteniendo este orden. Cada columna del DataFrame (pd.DataFrame) es una Serie (pd.Series), similar a un array con nombre en R. \n",
    "\n",
    "Así, las DataFrames son un conjunto de datos indexados, donde el índice de la fila me indica (en principio) una observación, y la columna me indica (en principio) la variable, aunque como veremos después, son bastante más versátiles gracias a los índices múltiles."
   ]
  },
  {
   "cell_type": "markdown",
   "id": "9cc92d22-50a7-4bbd-9414-6cefb83b7fec",
   "metadata": {
    "jp-MarkdownHeadingCollapsed": true,
    "tags": []
   },
   "source": [
    "## 1 - Creando un Dataframe\n",
    "\n",
    "Podemos crear un DataFrame desde 0 metiendo los datos y los índices (recuerda, el horizontal se llama **index** y el vertical **columns**):"
   ]
  },
  {
   "cell_type": "code",
   "execution_count": null,
   "id": "863f550f-15be-461c-a24e-0a5be94aa11a",
   "metadata": {},
   "outputs": [],
   "source": [
    "df = pd.DataFrame(\n",
    "{\"Sample\" : [\"R100\" , \"R201\", \"R203\", \"R340\", \"R453\"],\n",
    "\"t0\" : [0.2, 0.1, 0.3, 0.25, 0.13],\n",
    "\"t1\" : [1.3, 1.8, 0.8, 1.5, 0.6],\n",
    "\"t2\" : [2.8, 3.1, 1.9, 2.3, 1.8],\n",
    "\"t3\" : [3.2, 3.7, 2.3, 3.5, 2.5],\n",
    "\"t4\" : [1.2, 1.8, 3.9, 1.3, 3.7],\n",
    "\"t5\" : [0.7, 0.4, 3.4, 0.3, 3.6]}\n",
    ")\n",
    "print(df)"
   ]
  },
  {
   "cell_type": "code",
   "execution_count": null,
   "id": "75d17f81-ea6d-4d31-9501-57caa9566bf9",
   "metadata": {},
   "outputs": [],
   "source": [
    "print(df.columns)\n",
    "print(df.index)"
   ]
  },
  {
   "cell_type": "code",
   "execution_count": null,
   "id": "33653f65-f5f4-4b92-b159-ff3d95551eba",
   "metadata": {},
   "outputs": [],
   "source": [
    "#Si nos quedamos con una columna tendremos una SERIE\n",
    "type(df[\"t0\"])"
   ]
  },
  {
   "cell_type": "markdown",
   "id": "ab3f9677-e476-4d5c-b7a3-b7b631a45d92",
   "metadata": {},
   "source": [
    "Aunque lo más interesante es importar una base de datos existente. Podemos usar archivos tanto csv (texto plano), como importar hojas de excel xlsx."
   ]
  },
  {
   "cell_type": "code",
   "execution_count": null,
   "id": "c9d1d43f-edee-4121-be9e-f3d9c1d1561e",
   "metadata": {},
   "outputs": [],
   "source": [
    "filename=\"./Data/pokemon.csv\"\n",
    "pokemon_df=pd.read_csv(filename) \n",
    "pokemon_df.head(10)"
   ]
  },
  {
   "cell_type": "markdown",
   "id": "a250f74f-8c5f-4c9a-9822-dd4582484d25",
   "metadata": {},
   "source": [
    "Por defecto pandas usa la primera fila como el nombre de las columnas, pero introduce una nueva columna a la izquierda como índice. Si queremos que use alguna de las columnas como índice se lo podemos explicitar, y también podemos explicitar cuál fila queremos que use para dar nombre a las columnas:"
   ]
  },
  {
   "cell_type": "code",
   "execution_count": null,
   "id": "f9900eb4-4473-42af-b4a4-3a44f8f3fd81",
   "metadata": {},
   "outputs": [],
   "source": [
    "pokemon_df=pd.read_csv(filename, index_col=0,header=0) \n",
    "pokemon_df.head(10)"
   ]
  },
  {
   "cell_type": "markdown",
   "id": "302c16cc-bd2c-4cfd-b50d-529e21554aad",
   "metadata": {},
   "source": [
    "También podemos leer archivos excel:"
   ]
  },
  {
   "cell_type": "code",
   "execution_count": null,
   "id": "33db81c6-55a0-449f-90a4-93daba92351f",
   "metadata": {},
   "outputs": [],
   "source": [
    "filename=\"./Data/SampleData.xlsx\"\n",
    "Sales_df=pd.read_excel(filename, sheet_name = \"SalesOrders\")\n",
    "Sales_df.head(10)"
   ]
  },
  {
   "cell_type": "markdown",
   "id": "7b87f276-5e34-4e71-bdf7-3440d5d2e01b",
   "metadata": {},
   "source": [
    "Si queréis saber más: https://pythonbasics.org/read-excel/"
   ]
  },
  {
   "cell_type": "code",
   "execution_count": null,
   "id": "f705136f-f285-486e-860d-df37e7cb6cb9",
   "metadata": {},
   "outputs": [],
   "source": [
    "#ojo al leer,  verificar que el fichero que leemos tiene la estructura que pensamos. Este por ejemplo tiene muchas líneas arriba que son raras y no nos valen\n",
    "filename=\"./Data/Pandas_ World Alcohol Consumption Dataset.csv\"\n",
    "alcohol_df=pd.read_csv(filename) #siempre revisar lo que vamos a leer skiprows=4"
   ]
  },
  {
   "cell_type": "code",
   "execution_count": null,
   "id": "e0a55bb7-609e-4807-8af8-9a3700541124",
   "metadata": {},
   "outputs": [],
   "source": [
    "filename=\"./Data/Pandas_ World Alcohol Consumption Dataset.csv\"\n",
    "alcohol_df=pd.read_csv(filename, skiprows=8) # or simply edit the original file\n",
    "alcohol_df"
   ]
  },
  {
   "cell_type": "markdown",
   "id": "4c9009dc-27df-4e6a-99f6-76648ba9b9c4",
   "metadata": {
    "tags": []
   },
   "source": [
    "## 2 - Data Overview  \n",
    "\n",
    "Lo primero que nos va a interesar es tner una visión global de los datos, asegurarnos de que hemos leído el fichero correcto etc. \n",
    "\n",
    "Para ver la parte inicial o final del dataframe como hemos hecho antes, usaremos los métodos **.head()** and **.tail()**:"
   ]
  },
  {
   "cell_type": "code",
   "execution_count": null,
   "id": "7d895d99-858b-43f0-9aab-6c2307bc8e3b",
   "metadata": {},
   "outputs": [],
   "source": [
    "pokemon_df.head(5)\n",
    "#pokemon_df.tail(5)"
   ]
  },
  {
   "cell_type": "markdown",
   "id": "a80ed5af-ed5b-4f9c-9a6a-69e90ffa94a3",
   "metadata": {},
   "source": [
    "y para saber el tamaño **.shape**, que nos devuelve un **tuple** con el número de filas y el número de columnas"
   ]
  },
  {
   "cell_type": "code",
   "execution_count": null,
   "id": "f9d27ab4-dd15-4212-99fb-869e22231312",
   "metadata": {},
   "outputs": [],
   "source": [
    "#para saber el tamaño, devuelve el numero de filas (observaciones) y de columnas (variable)\n",
    "pokemon_df.shape"
   ]
  },
  {
   "cell_type": "markdown",
   "id": "29f1f2d5-f764-4272-918f-54cc6ee91800",
   "metadata": {},
   "source": [
    "Para tener una idea general del tipo de dato que va en cada columna usamos **.info()**"
   ]
  },
  {
   "cell_type": "code",
   "execution_count": null,
   "id": "4565afa2-9368-4e41-95d7-5a6c41e2f457",
   "metadata": {},
   "outputs": [],
   "source": [
    "pokemon_df.info()"
   ]
  },
  {
   "cell_type": "markdown",
   "id": "a62666b0-4b64-4ca1-8215-df6c82752fca",
   "metadata": {},
   "source": [
    "para tener un resumen estadístico usaremos el método **.describe()**, que nos da el numero de entradas, la media etc etc"
   ]
  },
  {
   "cell_type": "code",
   "execution_count": null,
   "id": "596e8a2e-2c59-4c2e-b8dd-ff7c9cf60953",
   "metadata": {},
   "outputs": [],
   "source": [
    "pokemon_df.describe()"
   ]
  },
  {
   "cell_type": "markdown",
   "id": "74e44c79-228b-43df-8699-beb6fc0b6530",
   "metadata": {},
   "source": [
    "Y podemos tener una visual rápida de cómo se distribuyen los valores de las columnas **numéricas** con **.hist()**"
   ]
  },
  {
   "cell_type": "code",
   "execution_count": null,
   "id": "4d1fd4d1-15a1-433f-ba41-60ed1a479373",
   "metadata": {},
   "outputs": [],
   "source": [
    "pokemon_df.hist()\n",
    "#esto es para que los ejes no se solapen\n",
    "plt.tight_layout()\n",
    "#imprime la imagen\n",
    "plt.show()"
   ]
  },
  {
   "cell_type": "markdown",
   "id": "2b7c6bfb-261d-41bc-97c0-1286c35fdb1d",
   "metadata": {},
   "source": [
    "Para las variables categóricas tenemos que hacer antes el conteo de casos con **.value_counts()**"
   ]
  },
  {
   "cell_type": "code",
   "execution_count": null,
   "id": "a5843b26-7485-4854-8ed5-a63a06e0912d",
   "metadata": {},
   "outputs": [],
   "source": [
    "pokemon_df[\"Type 1\"].value_counts().plot.bar()"
   ]
  },
  {
   "cell_type": "markdown",
   "id": "03c6edf5-1e40-49c5-8525-b54cac7d94f1",
   "metadata": {},
   "source": [
    "#### * Comprobar si hay **variables correlacionadas**"
   ]
  },
  {
   "cell_type": "code",
   "execution_count": null,
   "id": "b2d16ec8-6f59-434e-9e49-1e2fdac21f08",
   "metadata": {},
   "outputs": [],
   "source": [
    "#  ver rápidamente cuáles están altamente correlacionadas por si tenemos que quitar alguna del análisis\n",
    "pokemon_df.corr(method=\"spearman\",numeric_only=True) #methods: ‘pearson’, ‘kendall’, ‘spearman’"
   ]
  },
  {
   "cell_type": "code",
   "execution_count": null,
   "id": "15437f6a-d866-4062-97d3-8f42294cba43",
   "metadata": {},
   "outputs": [],
   "source": [
    "#y si lo queréis ver en colores, podemos hacer un heatmap (luego veremos otras representaciones)\n",
    "sns.heatmap(pokemon_df.corr(method=\"spearman\",numeric_only=True), cmap=\"coolwarm\", annot=True)"
   ]
  },
  {
   "cell_type": "markdown",
   "id": "baad90c1-2157-4c4c-b9f0-0d88e7606110",
   "metadata": {
    "tags": []
   },
   "source": [
    "Con esto deberíamos tener cubierto cómo hacernos una idea general de los datos que tenemos para empezar con la siguiente fase ...\n",
    "Pero antes podéis intentar hacer unos ejercicios:\n",
    "\n",
    "## 3 - Data preparation\n",
    "\n",
    "He intentado hacer un resumen de los problemas más frecuentes que nos encontramos cuando vamos a analizar unos datos (pero si se os ocurren otros podemos intentar ver cómo solucionarlos)."
   ]
  },
  {
   "cell_type": "markdown",
   "id": "34706e58-4d33-4a7e-b79b-8c6de8e1b53b",
   "metadata": {
    "tags": []
   },
   "source": [
    "### 3.1 **Selecionar** parte de la tabla: por **valores** de las celdas, por **índices**, o por **tipos** de datos\n",
    "Cuando trabajamos con las DataFrames vamos a poder seleccionar filas, columnas, o celdas de **TRES FORMAS DIFERENTES**: usando los **valores** de las celdas (llamado selección booleana), usando los **índices** (el valor del índice y de la columna) y mediante el **tipo** de dato. Todas son muy útiles, así que es bueno conocerlas."
   ]
  },
  {
   "cell_type": "markdown",
   "id": "9f7fab55-2c3d-454b-99aa-c7817ffecec9",
   "metadata": {
    "tags": []
   },
   "source": [
    "#### * Selección basada en el valor de las celdas: **Selecciones BOOLEANAS**\n",
    "Vamos a seleccionar filas, columnas y celdas basándonos en el valor de los datos. Este tipo de selección se hace en dos partes: en la primera crearemos un array booleano que nos dice qué datos satisfacen la condición que buscamos y cuáles no, y una segunda parte en la que filtramos los datos usando ese array."
   ]
  },
  {
   "cell_type": "markdown",
   "id": "5654c3b5-1819-4b82-807d-31834126fb07",
   "metadata": {
    "tags": []
   },
   "source": [
    " \n",
    "\n",
    "1 Condición: Por ejemplo, localicemoslos pokemons cuyo tipo 1 es Fuego:"
   ]
  },
  {
   "cell_type": "code",
   "execution_count": null,
   "id": "217573f3-b98e-4f85-b418-64580b3d0d31",
   "metadata": {},
   "outputs": [],
   "source": [
    "seleccion=pokemon_df[\"Type 1\"] == \"Fire\"\n",
    "pokemon_fuego_df=pokemon_df[seleccion]"
   ]
  },
  {
   "cell_type": "markdown",
   "id": "23f55b1d-6b5b-498d-9d08-790f9df4d90d",
   "metadata": {},
   "source": [
    "Múltiples condiciones: Podemos combinar más de una condición con los operadores lógicos & (and) y | (or) y el de inclusión **(in)**.\n",
    "\n",
    "Busquemos los pokemons de fuego de tercera generación:"
   ]
  },
  {
   "cell_type": "code",
   "execution_count": null,
   "id": "02c3ebcd-c983-496a-a53f-8b29d1e3d29a",
   "metadata": {},
   "outputs": [],
   "source": [
    "seleccion= (pokemon_df[\"Type 1\"]==\"Fire\") & (pokemon_df[\"Generation\"]==3)\n",
    "pokemon_df[seleccion]"
   ]
  },
  {
   "cell_type": "markdown",
   "id": "017c2dda-99ae-4c22-9850-bd9d043a073a",
   "metadata": {},
   "source": [
    "O los pokemons de Agua o fuego que sean legendarios:"
   ]
  },
  {
   "cell_type": "code",
   "execution_count": null,
   "id": "8ba8707c-7c92-4da9-ad93-3a7c16f65646",
   "metadata": {},
   "outputs": [],
   "source": [
    "seleccion1 = (pokemon_df[\"Type 1\"] == \"Fire\") | (pokemon_df[\"Type 1\"]==\"Water\") \n",
    "# ojo que la columna Legendary YA ES UN BOOL!\n",
    "pokemon_df[seleccion1 & pokemon_df[\"Legendary\"]]   "
   ]
  },
  {
   "cell_type": "code",
   "execution_count": null,
   "id": "b9c9f0f7-8d11-4f06-a355-6082d076980d",
   "metadata": {},
   "outputs": [],
   "source": [
    "#pokemons de tipo Hierba o Fuego\n",
    "seleccion1= pokemon_df[\"Type 1\"].isin([\"Grass\",\"Ice\"])  \n",
    "display(pokemon_df[seleccion1])\n",
    "#pokemons que empiezan con Gr\n",
    "seleccion1= pokemon_df[\"Type 1\"].str.startswith(\"Gr\") #.str.contains('on')\n",
    "pokemon_df[seleccion1]"
   ]
  },
  {
   "cell_type": "markdown",
   "id": "3b093a40-60c0-42b5-a572-6f617570666c",
   "metadata": {
    "jp-MarkdownHeadingCollapsed": true,
    "tags": []
   },
   "source": [
    "Selecciones complicadas: **Query** (esta forma sólo permite lectura, es decir que podemos leer los datos pero NO cambiarlos)"
   ]
  },
  {
   "cell_type": "code",
   "execution_count": null,
   "id": "1ccc6115-fb55-4139-900a-b3225779553a",
   "metadata": {
    "jp-MarkdownHeadingCollapsed": true,
    "tags": []
   },
   "outputs": [],
   "source": [
    "pokemon_df.query(\"Attack > Defense\")\n",
    "pokemon_df.query(\"Attack + Defense < 200\")"
   ]
  },
  {
   "cell_type": "markdown",
   "id": "dcf56389-4d10-45fd-bdea-65ca100bd923",
   "metadata": {
    "tags": []
   },
   "source": [
    "#### * Selección basada en **tipo de columna**:\n",
    "\n",
    "En algunos casos nos puede interesar quedarnos solo con las columnas que contengan un tipo de dato en particular (por ejemplo las columnas con datos numéricos). En este caso tenemos que usar los métodos que nos indiquen si las columnas son del tipo que nos interesan o no (es similar a la selección booleana que acabamos de ver, pero ahora se aplica al tipo de dato de cada columna).\n",
    "\n",
    "Quedémonos sólo con las varibales numéricas de nuestra df de pokemons:"
   ]
  },
  {
   "cell_type": "code",
   "execution_count": null,
   "id": "038c138e-0405-4d50-ad50-20a5e265f0e2",
   "metadata": {},
   "outputs": [],
   "source": [
    "pokemon_df.select_dtypes('number') #other possubilities are object, bool"
   ]
  },
  {
   "cell_type": "markdown",
   "id": "3c808ffe-5cec-47f1-89e5-d655c7469717",
   "metadata": {},
   "source": [
    "si queremos quedarnos solo con los nombres de las columnas, los extraemos con el método .columns"
   ]
  },
  {
   "cell_type": "code",
   "execution_count": null,
   "id": "3015cb53-9c54-4757-82aa-9f9773bef224",
   "metadata": {},
   "outputs": [],
   "source": [
    "numeric_columns=pokemon_df.select_dtypes('number').columns\n",
    "numeric_columns"
   ]
  },
  {
   "cell_type": "markdown",
   "id": "0d2a62f8-c817-436e-8159-8d42177eceba",
   "metadata": {
    "tags": []
   },
   "source": [
    "#### * Selección basada en los **índices**: (.loc[], .iloc[])\n",
    "\n",
    "Como acabamos de ver, este array de nombres de columnas es especial, pone **INDEX**. Esto es que son los índices de nuestros datos. Indexar correctamente l informción nos puede servir para encontrar la información más rápidamente. \n",
    "\n",
    "La forma más evidente es seleccionar sólo algunas columnas que nos interesen. Por ejemplo, si sólo quiero quedarme con el tipo 1 y el ataque 1 de los pokemos, puedo hacer este subset:"
   ]
  },
  {
   "cell_type": "code",
   "execution_count": null,
   "id": "3d38cbef-dba3-446c-82a2-876eab3834d6",
   "metadata": {},
   "outputs": [],
   "source": [
    "pokemon_df.loc[:, [\"Name\",\"Type 1\",\"Attack\"]]\n",
    "#como la suselección de columnas es muy frecuente también se puede usar esta forma + corta\n",
    "#pokemon_df[[\"Name\",\"Type 1\",\"Attack\"]] \n",
    "#aunque es más correcta la primera porque nos asegura no borrar datos de la df original sin querer"
   ]
  },
  {
   "cell_type": "markdown",
   "id": "9d207d51-44a2-4f0b-8de7-d83319a8ce19",
   "metadata": {},
   "source": [
    "También podemos seleccionar en función del índice \"horizontal\", en este caso el número del poquemon. Encontremos por ejemplos los pokemon  con índice 3. Los dos puntitos en la derecha significan \"selecciona todas las columnas\"."
   ]
  },
  {
   "cell_type": "code",
   "execution_count": null,
   "id": "10673de3-691d-4826-8814-dab1a8a58a17",
   "metadata": {},
   "outputs": [],
   "source": [
    "pokemon_df.loc[3,:]"
   ]
  },
  {
   "cell_type": "markdown",
   "id": "c91ca527-c86a-46ab-aae7-6b02f4614d36",
   "metadata": {},
   "source": [
    "En algunos casos nos puede interesar localizar las entradas por su orden en la base de datos, y para eso usaremos el método **.iloc[]**.\n",
    "\n",
    "Por ejemplo, encontremos los pokemons que están en las filas 3 a 13, y las columnas 0, 5 y 8:"
   ]
  },
  {
   "cell_type": "code",
   "execution_count": null,
   "id": "a3aca837-7ce6-4695-8f08-bc6a770d43c6",
   "metadata": {},
   "outputs": [],
   "source": [
    "pokemon_df.iloc[2:13,[0,5,8]]\n",
    "#np.r_[1:5, 7:11, 13:15] if you want more complicated selections"
   ]
  },
  {
   "cell_type": "markdown",
   "id": "827d9092-bfce-4886-9a32-905e9af00f1f",
   "metadata": {
    "tags": []
   },
   "source": [
    "#### **Multiindex:** indexar en filas y columnas usando múltples variables\n",
    "\n",
    "Aunque pude parecer confuso, el uso de índices es una de las funcionalidades más importantes en pandas. Además, al contrario que R, ¡permite usar más de un nivel de indexado para las filas y para las solumnas!. Esto es una gran ventaja por ejemplo para poder gestionar bases de datos complejas, que queramos poder separar o combinar a nuestro antojo. \n",
    "\n",
    "Un **índice jerárquico** significa que la DataFrame tendrá dos o más dimensiones que se pueden usar para identificar cada fila. Para crear un MultiIndex con nuestro DataFrame original, pasamos una lista de columnas al método **.set_index()**"
   ]
  },
  {
   "cell_type": "code",
   "execution_count": null,
   "id": "b4298a0a-b25a-4c91-b488-4803252c7cf8",
   "metadata": {},
   "outputs": [],
   "source": [
    "filename=\"./Data/WordsByCharacter.csv\"\n",
    "lotr_df=pd.read_csv(filename)\n",
    "lotr_df.head(5)"
   ]
  },
  {
   "cell_type": "code",
   "execution_count": null,
   "id": "2c2338cd-8263-45d9-91da-80d2ec7aa82f",
   "metadata": {},
   "outputs": [],
   "source": [
    "multi_df = lotr_df.set_index(['Film', 'Chapter', 'Race', 'Character'])\n",
    "multi_df.head(10)"
   ]
  },
  {
   "cell_type": "markdown",
   "id": "9872e4ca-31d6-4586-a2c1-a475f9b054db",
   "metadata": {},
   "source": [
    "Para evitar que los niveles aparezcan desordenados, usar  **.sort_index()** "
   ]
  },
  {
   "cell_type": "code",
   "execution_count": null,
   "id": "9555c004-ed69-43cc-ae19-db963b304389",
   "metadata": {},
   "outputs": [],
   "source": [
    "multi_df = lotr_df.set_index(['Film', 'Chapter', 'Race', 'Character']).sort_index()\n",
    "multi_df.head(10)"
   ]
  },
  {
   "cell_type": "markdown",
   "id": "ee2861d4-f484-40c1-92b4-37c92b397df7",
   "metadata": {},
   "source": [
    "multi_df se ha organizado de modo que ahora hay cuatro columnas que componen el índice. Podemos verificarlo sacando el índice accedienco a **.index** o **index.values** (son tuples!!)"
   ]
  },
  {
   "cell_type": "code",
   "execution_count": null,
   "id": "50b17b56-96de-423f-a4d7-e35fa2f3f5f1",
   "metadata": {},
   "outputs": [],
   "source": [
    "#multi_df.index.values"
   ]
  },
  {
   "cell_type": "markdown",
   "id": "e03bc591-bb08-477d-8350-e5393876199e",
   "metadata": {},
   "source": [
    "Podemos reordenar los niveles como queramos:"
   ]
  },
  {
   "cell_type": "code",
   "execution_count": null,
   "id": "2dc3ed3a-300d-4dad-b9b7-ecd84f07381e",
   "metadata": {},
   "outputs": [],
   "source": [
    "multi_df.reorder_levels(['Race','Character','Film','Chapter']).sort_index()"
   ]
  },
  {
   "cell_type": "markdown",
   "id": "5368a9f6-0a08-4db7-9d2a-d8265f7cfd52",
   "metadata": {},
   "source": [
    "Y si queremos volver a como estaba antes y no usar índices, pues reseteamos los índices con **.reset_index()**"
   ]
  },
  {
   "cell_type": "code",
   "execution_count": null,
   "id": "5094b8d2-676d-4851-993c-a5ae3fe39ca3",
   "metadata": {},
   "outputs": [],
   "source": [
    "multi_df.reset_index()#inplace=True"
   ]
  },
  {
   "cell_type": "markdown",
   "id": "5e5f0742-f7c2-435c-939c-2507ebf7e149",
   "metadata": {},
   "source": [
    "Podemos hacer **subsets usando los indices** múltiples en lugar de con selecciones booleanas:\n",
    "\n",
    "Con **.loc[]** : Tenemos que **indicar el tuple entero**, permite editar"
   ]
  },
  {
   "cell_type": "code",
   "execution_count": null,
   "id": "b1bc060a-92e3-40eb-8f24-821516f78bd5",
   "metadata": {},
   "outputs": [],
   "source": [
    "multi_df.loc[('The Two Towers',slice(None),slice(None),['Gandalf','Saruman']), :]\n",
    "#multi_df.loc[('The Two Towers',slice(None),slice(None),['Gandalf','Saruman']), :]=5\n",
    "#multi_df.loc[('The Two Towers',slice(None),slice(None),['Gandalf','Saruman']), :]\n",
    "#multi_df = lotr_df.set_index(['Film', 'Chapter', 'Race', 'Character']).sort_index()"
   ]
  },
  {
   "cell_type": "markdown",
   "id": "6a5fb583-cdec-4443-a556-3584c9082a4b",
   "metadata": {},
   "source": [
    "Para esto es conveniente sabe **extraer los diferentes valores de cada uno de los índices**:"
   ]
  },
  {
   "cell_type": "code",
   "execution_count": null,
   "id": "2bb9ff26-3b6a-45f3-9c46-25766b90001d",
   "metadata": {},
   "outputs": [],
   "source": [
    "level_names=multi_df.index.names\n",
    "print(level_names)\n",
    "multi_df.index.unique(level='Race')"
   ]
  },
  {
   "cell_type": "markdown",
   "id": "6fb5be75-60e6-419c-99c7-55a846385b43",
   "metadata": {},
   "source": [
    "Con **.xs()**: Return **cross-section** from the Series/DataFrame. Más sencillo, pero de sólo lectura (indicamos el valor del índice y el nombre del nivel). Es similar a lo que es .query() a la seleccion booleana."
   ]
  },
  {
   "cell_type": "code",
   "execution_count": null,
   "id": "98df71f1-4333-42ce-ab30-8300557fcf2f",
   "metadata": {},
   "outputs": [],
   "source": [
    "multi_df.xs('Galadriel', level='Character')\n",
    "#multi_df.xs('Galadriel', level='Character')=5\n",
    "#multi_df.loc[(slice(None),slice(None),slice(None),[''Galadriel']), :]=5\n",
    "#multi_df.xs('Galadriel', level='Character')\n",
    "#multi_df = lotr_df.set_index(['Film', 'Chapter', 'Race', 'Character']).sort_index()"
   ]
  },
  {
   "cell_type": "markdown",
   "id": "97160b3c-34ad-4ffa-984d-d1c4170df700",
   "metadata": {},
   "source": [
    "Here str operators are a little more difficult, we need to operate on the index level values and then filter"
   ]
  },
  {
   "cell_type": "code",
   "execution_count": null,
   "id": "d10c481b-9499-4d3b-92b8-325457ecb2df",
   "metadata": {},
   "outputs": [],
   "source": [
    "multi_df[multi_df.index.get_level_values('Character').str.contains('m')]"
   ]
  },
  {
   "cell_type": "markdown",
   "id": "25abd2f5-97be-4b4b-94f0-c11746309116",
   "metadata": {
    "tags": []
   },
   "source": [
    "### 3.2 Limpieza de una base de datos"
   ]
  },
  {
   "cell_type": "markdown",
   "id": "6cdccdbe-976d-470a-aee4-174a886917b5",
   "metadata": {
    "tags": []
   },
   "source": [
    "#### * **NAN**: gestionar información que no tenemos. \n",
    "Encontramos los NaN usando los métodos **is.na()** junto con seleccion booleana. "
   ]
  },
  {
   "cell_type": "code",
   "execution_count": null,
   "id": "a9f4c5a6-bc3e-4a47-b1b3-1877b382f5e4",
   "metadata": {},
   "outputs": [],
   "source": [
    "#encontrar columnas que tengan algún dato perdido\n",
    "print(pokemon_df.isna().any())\n",
    "#encontrar filas que tengan algún dato perdido\n",
    "pokemon_df.isna().any(axis=1)\n",
    "\n",
    "#ambas generan un vector boolean: True/False"
   ]
  },
  {
   "cell_type": "code",
   "execution_count": null,
   "id": "800cf771-0037-4096-836d-93ab3bdbb9c5",
   "metadata": {},
   "outputs": [],
   "source": [
    "#contar los NaN en una columna en particular\n",
    "print(pokemon_df['Type 2'].isnull().values.sum())"
   ]
  },
  {
   "cell_type": "code",
   "execution_count": null,
   "id": "9cefb504-7e79-4ed4-ab68-83280730ae96",
   "metadata": {},
   "outputs": [],
   "source": [
    "#encontrar todas las FILAS (observaciones) que contengan algún NAN\n",
    "pokemon_df[pokemon_df.isna().any(axis=1)]"
   ]
  },
  {
   "cell_type": "code",
   "execution_count": null,
   "id": "01a29b06-6824-43f4-abb5-5d7f8a4a763f",
   "metadata": {},
   "outputs": [],
   "source": [
    "#encontrar todas las COLUMNAS (observaciones) que contengan algún NAN\n",
    "pokemon_df.columns[pokemon_df.isna().any()].to_list()"
   ]
  },
  {
   "cell_type": "markdown",
   "id": "9f82a219-46c3-41c3-9474-77c26bb29d97",
   "metadata": {},
   "source": [
    "Ahora podemos querer eliminar estas entradas usando **.dropna()** "
   ]
  },
  {
   "cell_type": "code",
   "execution_count": null,
   "id": "1a3b2483-50a8-47d2-8593-852c2cabf6b8",
   "metadata": {},
   "outputs": [],
   "source": [
    "#.dropna()\n",
    "# Drop rows that has at least one NaN Values\n",
    "clean_df=pokemon_df.dropna()\n",
    "print(clean_df.head(5))\n",
    "# Drop columns that has at least one Nan Values\n",
    "clean_df=pokemon_df.dropna(axis=1)\n",
    "print(clean_df.head(5))\n",
    "\n",
    "#Otras que pueden ser de interes\n",
    "# Drop rows that has NaN values on selected columns\n",
    "df2=pokemon_df.dropna(subset=['Type 1','Type 2'])\n",
    "# Drop rows that has all Nan Values\n",
    "df=pokemon_df.dropna(how='all')\n",
    "# Keep only the rows with at least 2 non-NA values.\n",
    "df2=pokemon_df.dropna(thresh=3,axis=1)\n"
   ]
  },
  {
   "cell_type": "markdown",
   "id": "90baf111-e3bf-4811-88c5-53687fdc9f09",
   "metadata": {},
   "source": [
    "o rellenar los NaN con algún valor concreto usando **.fillna()**"
   ]
  },
  {
   "cell_type": "code",
   "execution_count": null,
   "id": "96e64bad-f167-49b7-afca-b0e8f43c3ecd",
   "metadata": {},
   "outputs": [],
   "source": [
    "pokemon_df['Type 2'].fillna(pokemon_df['Type 1'], inplace=True) #fill NaN values in Type2 with corresponding values of Type\n",
    "\n",
    "\n",
    "#Otras modificaciones de interés\n",
    "df_result = pokemon_df.fillna(value={'Type 2': 0, 'Legendary': 1}) #usar valores específicos para cada columna"
   ]
  },
  {
   "cell_type": "markdown",
   "id": "cbf4ba46-1f28-41b3-9c07-964786a73504",
   "metadata": {
    "tags": []
   },
   "source": [
    "#### * **Renombrar**  índices, columnas, o valores dentro de la base de datos: "
   ]
  },
  {
   "cell_type": "code",
   "execution_count": null,
   "id": "34bea175-8b59-4ce3-bdf5-e624137b10e5",
   "metadata": {},
   "outputs": [],
   "source": [
    "#Podemos siempre crear un índice nuevo desde cero con rest_index:\n",
    "print(pokemon_df.head(5)) #VEMOS QUE ES EL NÚMERO DE POKEMON, Y COMO ESTÁ MAL REPETIDO PUEDE SER UN MAL ÍNDICE!\n",
    "pokemon_df.reset_index(inplace=True)\n",
    "print(pokemon_df.head(5))"
   ]
  },
  {
   "cell_type": "markdown",
   "id": "898b6ad1-7425-4bd3-a79a-888d0b386e16",
   "metadata": {},
   "source": [
    "Podemos cambiar nombres de columnas y valores dentro de la dataframe. Por ejemplo, el nombre de los poquemons mega está raro. Podemos corregirlo usando **expresiones regulares** para quitar  todo lo que hay delante de \"Mega\" (más sobre expresiones regulares: https://dl.icewarp.com/online_help/203030104.htm , ojalá no os haga falta nunca)"
   ]
  },
  {
   "cell_type": "code",
   "execution_count": null,
   "id": "ac1d818f-5653-43be-9240-035c0f3c83d6",
   "metadata": {},
   "outputs": [],
   "source": [
    "pokemon_df[\"Name\"]=pokemon_df[\"Name\"].str.replace(\".*(?=Mega)\", \"\",regex=True)"
   ]
  },
  {
   "cell_type": "markdown",
   "id": "14f72043-ce07-46b7-bf77-784114d58c4f",
   "metadata": {},
   "source": [
    "**Usando Dict**: En ocasiones es útil usar un diccionario de los que vimos antes, en los que pondremos como \"keys\" los valores a cambiar y como \"value\" el nuevo valor. Veamos un ejemplo"
   ]
  },
  {
   "cell_type": "code",
   "execution_count": null,
   "id": "e82c8bac-d8de-44e9-8c06-f6cbae013d18",
   "metadata": {},
   "outputs": [],
   "source": [
    "#Cambiaemos algunos de los nombres de las columnas. Primero creamos el diccionario para mapear los valores antiguos y los nuevos\n",
    "col_dict={\"Attack\": \"Attack1\", \"Defense\": \"Defense1\", \"Sp. Atk\":\"Attack2\", \"Sp. Def\": \"Defense2\"}\n",
    "pokemon_df.rename(columns=col_dict) "
   ]
  },
  {
   "cell_type": "markdown",
   "id": "ff7e995a-f41b-4ec6-a7a3-daf18409143f",
   "metadata": {},
   "source": [
    "Esto por defecto genera una **NUEVA dataframe** (todo lo que se ejecute y se vea el ouput significa que genera una nueva). \n",
    "Para cambiarlo en la misma base de datos debemos indicarle **\"inplace=True\"**, o crear una nueva asignándola con \"=\"."
   ]
  },
  {
   "cell_type": "code",
   "execution_count": null,
   "id": "70072a72-5cd2-488e-90ae-fe7adf1ce626",
   "metadata": {},
   "outputs": [],
   "source": [
    "pokemon_df.rename(columns=col_dict, inplace=True) \n",
    "pokemon_df.head(5)"
   ]
  },
  {
   "cell_type": "code",
   "execution_count": null,
   "id": "c84a9412-a5cb-46a6-a1db-f9854f11ea76",
   "metadata": {},
   "outputs": [],
   "source": [
    "#veamos si encontramos errores en los tipos de pokemon\n",
    "np.sort(pokemon_df[\"Type 1\"].unique())\n",
    "#vemos que hay errores: Grasss, Normall,Poisson, podemos corregirlos de una forma similar"
   ]
  },
  {
   "cell_type": "code",
   "execution_count": null,
   "id": "0128326e-61e0-475f-a19c-5591b1516826",
   "metadata": {},
   "outputs": [],
   "source": [
    "correction_dict={\"Grasss\": \"Grass\", \"Normall\":\"Normal\", \"Poisson\": \"Poison\"}\n",
    "pokemon_df[\"Type 1\"].replace(correction_dict, inplace=True)\n",
    "print(np.sort(pokemon_df[\"Type 1\"].unique()))"
   ]
  },
  {
   "cell_type": "markdown",
   "id": "6e419e19-3a8d-46e5-80eb-5beb8a75b0ae",
   "metadata": {},
   "source": [
    "A veces es importante saber si tienes duplicados y es pesado buscarlos a mano, podemos usar fuzzy logic (libreria FuzzyWuzzy). Por ejemplo encontrando duplicados en una columna. Para encontrar duplicados de lineas completas: https://maxhalford.github.io/blog/transitive-duplicates/"
   ]
  },
  {
   "cell_type": "code",
   "execution_count": null,
   "id": "ddb1e92a-29de-44a6-ad0b-67b16cf82f85",
   "metadata": {},
   "outputs": [],
   "source": [
    "from fuzzywuzzy import fuzz\n",
    "type2=pokemon_df[\"Type 2\"].unique()\n",
    "for i in range(len(type2)):\n",
    "    for j in range(len(type2)):\n",
    "        typei=type2[i]\n",
    "        typej=type2[j]\n",
    "        distance = fuzz.partial_ratio(str(typei), str(typej))\n",
    "        #print (typei, typej,distance)\n",
    "        if   ( (80 < distance) and (typei != typej)) :\n",
    "                   print(typei,typej)"
   ]
  },
  {
   "cell_type": "code",
   "execution_count": null,
   "id": "c0e8ef6e-5625-4e3a-a2e6-354698e76edf",
   "metadata": {},
   "outputs": [],
   "source": [
    "pokemon_df[\"Type 2\"].replace(correction_dict, inplace=True) #corregimos tb la segunda columna porque vemos que no hya problemas nuevos\n",
    "#podemos ver el histograma de valores con .value_counts()\n",
    "pokemon_df[\"Type 2\"].value_counts()"
   ]
  },
  {
   "cell_type": "code",
   "execution_count": null,
   "id": "202809f3-54df-4ee9-8867-96da5ecc2e32",
   "metadata": {},
   "outputs": [],
   "source": [
    "# SELECCIÓN\n",
    "## usando valores de filas y columnas (selección booleana)\n",
    "## usando los tipos de las columnas df.select_dtypes(include=np.number)  ## seleccion de columnas numéricas\n",
    "## usando los índices (uso de índices múltiples: MULTIINDEX)\n",
    "### selección de columnas\n",
    "### selección de filas\n",
    "## busquedas complicadas: query"
   ]
  },
  {
   "cell_type": "markdown",
   "id": "acc78b1d-1280-4b69-ba57-c4857f1ace8d",
   "metadata": {
    "jp-MarkdownHeadingCollapsed": true,
    "tags": []
   },
   "source": [
    "### 3.3 Operaciones con columnas y filas. Generando y guardando nueva información\n",
    "\n",
    "Pandas hará todas las **operaciones vectoriales por defecto**, aplicando los operadors a todas las filas (o columnas) de la base de datos. El orden de los ejes en los que se aplican es primero por filas (axis=0) y luego por columnas (axis=1). Si recordamos las operaciones aritméticas (+, -, \\*, /, //,  %) veamos cómo funcionan"
   ]
  },
  {
   "cell_type": "markdown",
   "id": "15d1968a-5e99-4f9d-b2dc-f2d60a42bf03",
   "metadata": {},
   "source": [
    "Encontremos la suma de los dos valores de ataque de los pokemons, y guardemoslo en una columna nueva"
   ]
  },
  {
   "cell_type": "code",
   "execution_count": null,
   "id": "6fa67c66-146c-47f7-9af0-ea69781cf4a7",
   "metadata": {},
   "outputs": [],
   "source": [
    "filename=\"./Data/pokemon_clean.csv\"\n",
    "pokemon_df=pd.read_csv(filename, index_col=0) # cargamos el fichero\n",
    "pokemon_df.set_index(\"Name\",inplace=True) # indexamos por nombre, que no está repetido"
   ]
  },
  {
   "cell_type": "code",
   "execution_count": null,
   "id": "7f6a54c1-bf75-4a89-b60b-c078d7079948",
   "metadata": {},
   "outputs": [],
   "source": [
    "pokemon_df[\"Total_Atk\"]=pokemon_df[\"Attack\"]+pokemon_df[\"Sp. Atk\"] #guardar la suma de ataques en nueva columna\n",
    "print(pokemon_df.head(4))\n",
    "pokemon_df[\"Violence Ratio\"]=pokemon_df[\"Attack\"]/pokemon_df[\"Defense\"] #calcular el ratio de violencia y guardarlo en una columna nuevaÇ\n",
    "print(pokemon_df.head(4))"
   ]
  },
  {
   "cell_type": "code",
   "execution_count": null,
   "id": "83168dd4-b15f-4001-99c7-69c5646ca4c2",
   "metadata": {},
   "outputs": [],
   "source": [
    "#funciona de forma similar para las columnas de strings\n",
    "pokemon_df[\"Composed Type\"]=pokemon_df[\"Type 1\"]+\"_\"+pokemon_df[\"Type 2\"] #crear una columna con el tipo compuesto\n",
    "pokemon_df.head(4)"
   ]
  },
  {
   "cell_type": "markdown",
   "id": "fdf3506c-eccc-449b-ad50-c1f515550c2c",
   "metadata": {
    "jp-MarkdownHeadingCollapsed": true,
    "tags": []
   },
   "source": [
    "### 3.4 Agrupando información: Funciones aritméticas y **.groupby()**\n",
    "\n",
    "Tenemos diferentes funciones que nos permiten conocer la estadística agregada básica de nuestra base de datos, ya las vimos antes por encima, pero veamos cómo funcionan  en más detalle.\n",
    "Las funciones son: **.sum() .mean() .meadian() .std() .max() .min() .count()** (hay que restringirse a las columnas numéricas)"
   ]
  },
  {
   "cell_type": "code",
   "execution_count": null,
   "id": "8e65c6c6-8db9-487b-8a91-22d9d5b12279",
   "metadata": {},
   "outputs": [],
   "source": [
    "display(pokemon_df.select_dtypes('number').mean(axis=0)) #por filas: axis=0\n",
    "\n",
    "pokemon_df.select_dtypes('number').mean(axis=1) #por columnas : axis=1"
   ]
  },
  {
   "cell_type": "markdown",
   "id": "3d81709a-a387-44db-baa5-638549b73185",
   "metadata": {},
   "source": [
    "Más que aplicarlo a toda la base de datos, suele ser interesante si podemos **agrupar los datos por categorías**, y aplicar esas funciones a cada uno de los grupos. Para esto está la función \"group_by\".\n",
    "\n",
    "Por ejemplo veamos el ataque medio de cada tipo de pokemons:"
   ]
  },
  {
   "cell_type": "code",
   "execution_count": null,
   "id": "d109b908-caa5-43b9-9254-0ea7ce299497",
   "metadata": {},
   "outputs": [],
   "source": [
    "pokemon_df.groupby(by=\"Type 1\").mean()[\"Total_Atk\"].sort_values(ascending=False)"
   ]
  },
  {
   "cell_type": "markdown",
   "id": "88a9b9df-bcc1-402e-9422-e7625ee7240a",
   "metadata": {},
   "source": [
    "Tambien es posible hacer esto de forma VISUAL, usando las categorias para separar las representaciones: **sns.boxplot()**, **sns.stripplot()**, **sns.violinplot** y **sns.barplot()**. Seaborn te ahce los cálculos sobre la dispersión de cada categoría por su cuenta, vale con que le indiquemos cuál usar\n",
    "\n",
    "\n",
    "(Para incluir anotaciones de significancia estadística: https://levelup.gitconnected.com/statistics-on-seaborn-plots-with-statannotations-2bfce0394c00)"
   ]
  },
  {
   "cell_type": "code",
   "execution_count": null,
   "id": "499bfb7d-082c-493c-8597-40861d8f2204",
   "metadata": {},
   "outputs": [],
   "source": [
    "sns.boxplot(x = \"Type 1\", y = \"Total_Atk\",data=pokemon_df)\n",
    "plt.xticks(rotation = 90)\n",
    "plt.show()"
   ]
  },
  {
   "cell_type": "code",
   "execution_count": null,
   "id": "1b55160e-dfdc-47be-85e8-f9c403491d48",
   "metadata": {},
   "outputs": [],
   "source": [
    "#veamos si ha habdo un cambio en los HP de los pokemons normal vs legendario a través de las generaciones. Hue me permite separar cada categoria en otras varias\n",
    "sns.boxplot(x = \"Generation\", y = \"HP\", hue= \"Legendary\", data=pokemon_df)\n",
    "plt.show()"
   ]
  },
  {
   "cell_type": "code",
   "execution_count": null,
   "id": "caeb0538-a871-4bb2-bd1e-a99c649136a7",
   "metadata": {},
   "outputs": [],
   "source": [
    "#lo cual es útil para hacer gráficos de barras:\n",
    "types_df=pokemon_df.groupby([\"Type 1\", \"Legendary\"]).count()[\"#\"].reset_index().sort_values(by=\"#\",ascending=False)\n",
    "#display(types_df)\n",
    "sns.barplot(x=\"Type 1\", y=\"#\", hue=\"Legendary\",data=types_df)\n",
    "plt.xticks(rotation = 90)\n",
    "plt.show()"
   ]
  },
  {
   "cell_type": "markdown",
   "id": "aa5a6e6e-df30-49e7-a795-43627ce5f8e0",
   "metadata": {
    "jp-MarkdownHeadingCollapsed": true,
    "tags": []
   },
   "source": [
    "### Correlaciones:\n",
    "Aparte de ver similitudes o diferencias entre grupos, también nos pueden interesar obtener las correlaciones entre diferentes valores. Para eso podemos usar **sns.regplot()** (regresion lineal), **sns.scatterplot()**, o como vimos antes **sns.heatmap(pd.corr())**.\n",
    "Veamos si existe algún tipo de correlacion entre el valor de ataque y de defensa"
   ]
  },
  {
   "cell_type": "code",
   "execution_count": null,
   "id": "24cdf022-8372-4eed-99b2-e4ca01bc2fd9",
   "metadata": {},
   "outputs": [],
   "source": [
    "sns.scatterplot(data=pokemon_df, x=\"Attack\", y=\"Defense\",hue=\"Legendary\")\n",
    "#sns.regplot(data=pokemon_df, x=\"Attack\", y=\"Defense\")"
   ]
  },
  {
   "cell_type": "markdown",
   "id": "fde006c2-94df-4ddc-8e67-8f397ff1d491",
   "metadata": {},
   "source": [
    "O entre "
   ]
  },
  {
   "cell_type": "code",
   "execution_count": null,
   "id": "a264bec0-5590-4dc9-b02d-e9552f363896",
   "metadata": {},
   "outputs": [],
   "source": [
    "fig, ax =  plt.subplots(1)\n",
    "sns.regplot(data=pokemon_df, x=\"Sp. Atk\", y=\"Sp. Def\", ax=ax)\n",
    "#para meter el numero hayq¡ que currarselo un poco\n",
    "from Funciones import *\n",
    "corr_func_annotate(pokemon_df[\"Sp. Atk\"], pokemon_df[\"Sp. Def\"], ax=ax, method=\"pearson\", color='black',  xy=(0.6,0.8),fontsize=16)"
   ]
  },
  {
   "cell_type": "markdown",
   "id": "ad498ff3-3eb9-4f95-80ab-c4d9ea0b3d41",
   "metadata": {
    "jp-MarkdownHeadingCollapsed": true,
    "tags": []
   },
   "source": [
    "### Ordenando informacion: **.sort()**\n",
    "Estos métodos valen para ordenar una columna acorde a sus valores, en orden ascendente o descendente. Por ejemplo, encontremos los tres pokemons con los ataques más altos:"
   ]
  },
  {
   "cell_type": "code",
   "execution_count": null,
   "id": "3dc727ec-0ba6-44fe-bf2c-03533fee54ad",
   "metadata": {},
   "outputs": [],
   "source": [
    "pokemon_df.sort_values('Attack',ascending=False).head(3) # ordenamos por ataque y nos quedamos con los tres primeros"
   ]
  },
  {
   "cell_type": "markdown",
   "id": "6f8b6e27-0ca7-423a-bb84-2cf09272d838",
   "metadata": {},
   "source": [
    "Podemos buscar directamente los poquemons con **valores extremos**:"
   ]
  },
  {
   "cell_type": "code",
   "execution_count": null,
   "id": "ecaf30cc-db0e-4475-b611-f4fadb65ea9f",
   "metadata": {},
   "outputs": [],
   "source": [
    "print(\"Max DEFENCE:\",(pokemon_df['Defense']).idxmax()) #idxmax idxmin devuelve el índex label del valor máximo\n",
    "print(\"Max HP value is %s, from %s\" % (pokemon_df['HP'].max(), pokemon_df['HP'].idxmax()))\n",
    "\n",
    "pokemon_df.loc[pokemon_df['Defense'].idxmax()]"
   ]
  },
  {
   "cell_type": "markdown",
   "id": "8aed980c-f4a0-402b-b255-6f75d8ffc580",
   "metadata": {
    "tags": []
   },
   "source": [
    "### 3.5 Combinando DataFrames: pd.concat() y pd.merge()\n",
    "\n",
    "En ocasiones es posible que te encuentres con los datos divididos entre más de un dataframe. "
   ]
  },
  {
   "cell_type": "markdown",
   "id": "1d48522d-cb9c-4ac1-bf91-317c81d86437",
   "metadata": {
    "tags": []
   },
   "source": [
    "**.concat()**: Si vamos construyendo la dataframe poco a poco necesitaremos esto. El método **pd.concat()** permite combinar todas las df que le pasemos como variable en una dataframe única. La lógica es similar a append"
   ]
  },
  {
   "cell_type": "code",
   "execution_count": null,
   "id": "91b45fb5-92d6-4a82-af6b-aa3a0071c0f5",
   "metadata": {},
   "outputs": [],
   "source": [
    "# creating the DataFrames\n",
    "df1 = pokemon_df.sample(5)\n",
    "display('df1:', df1)\n",
    "df2 = pokemon_df.sample(5)\n",
    "display('df2:', df2)\n",
    "  \n",
    "# concatenar, por defecto concatenma por filas (index=0)\n",
    "display('After concatenating:')\n",
    "display(pd.concat([df1, df2]))#, keys = ['key1', 'key2'])) #esto permite retener la df original si es necesario"
   ]
  },
  {
   "cell_type": "markdown",
   "id": "aa126532-a5e9-4439-b56c-f31575ba2344",
   "metadata": {},
   "source": [
    "**.merge()**: Si tenemos los datos referentes a las mismas observaciones repartidos en más de 1 dataset. Esto permite hacer las uniones típicas: inner, outer, left, y rigth"
   ]
  },
  {
   "cell_type": "code",
   "execution_count": null,
   "id": "37843fbd-9ff3-4668-ae6b-329dcafbc4bf",
   "metadata": {},
   "outputs": [],
   "source": [
    "df1 = pd.DataFrame({   \n",
    "        \"key\": [\"K0\", \"K1\", \"K2\", \"K4\"],\n",
    "        \"A\": [\"A0\", \"A1\", \"A2\", \"A3\"],\n",
    "        \"B\": [\"B0\", \"B1\", \"B2\", \"B3\"],\n",
    "    })\n",
    "df2 = pd.DataFrame({\n",
    "        \"key\": [\"K0\", \"K1\", \"K2\", \"K3\"],\n",
    "        \"C\": [\"C0\", \"C1\", \"C2\", \"C3\"],\n",
    "        \"D\": [\"D0\", \"D1\", \"D2\", \"D3\"],\n",
    "    })\n",
    "\n",
    "display('Outer join:', pd.merge(df1, df2, on=\"key\",how='outer')) #'left', 'right', 'inner', 'outer'\n",
    "display('Right join:(df2 + importante)', pd.merge(df1, df2, on=\"key\",how='right'))\n",
    "display('Left join:(df1 + importante)', pd.merge(df1, df2, on=\"key\",how='left'))\n",
    "display('Inner join:',pd.merge(df1, df2, on=\"key\",how='inner'))"
   ]
  },
  {
   "cell_type": "code",
   "execution_count": null,
   "id": "996a72f5-221a-4876-b17a-0ca77af17de5",
   "metadata": {},
   "outputs": [],
   "source": [
    "# COMBINANDO DATAFRAMES\n",
    "## concatenación\n",
    "## uniones (inner, outer, left rigth)"
   ]
  },
  {
   "cell_type": "markdown",
   "id": "3a887d88-08d4-431e-bcd2-750c9d3afa0d",
   "metadata": {
    "jp-MarkdownHeadingCollapsed": true,
    "tags": []
   },
   "source": [
    "### 3.6 Restructurando DataFrames: pd.merge() y pd.concat()\n",
    "\n",
    "En muchos casos nos va a interesar pasar de tener los valores en filas a tenerlos repartidos en columnas (estirar la df), o combinar los valores de varias columnas en una (compactar la df) si queremos que nuestros datos tengan una estructura concreta https://www.w3resource.com/pandas/dataframe/dataframe-pivot.php"
   ]
  },
  {
   "cell_type": "markdown",
   "id": "936afad6-3ec1-40fd-b8d3-097f505f0660",
   "metadata": {},
   "source": [
    "* Colapsar varias filas a una columna: **.melt()**\n",
    "\n",
    "Imagina que tienes esta DataFrame con la lluvia de cada año en verano (RainW) e invierno (RainS). Para pasarla a formato tidy usaremos .metl():"
   ]
  },
  {
   "cell_type": "code",
   "execution_count": null,
   "id": "cce0965c-f500-4278-9a62-9c14e71c9a92",
   "metadata": {},
   "outputs": [],
   "source": [
    "df = pd.DataFrame({'Year': {0: '14', 1: '15', 2: '16'},\n",
    "                   'RainW': {0: 1, 1: 3, 2: 5},\n",
    "                   'RainS': {0: 2, 1: 4, 2: 6}})\n",
    "display(df)"
   ]
  },
  {
   "cell_type": "code",
   "execution_count": null,
   "id": "d8c96231-213b-4a0a-9880-bb9f437dc90a",
   "metadata": {},
   "outputs": [],
   "source": [
    "df.melt(id_vars=['Year'], value_vars=['RainW','RainS']) #B y C entran como indexes. Para convertir a tidy style:la cantidad de agua en función de diferentes indices"
   ]
  },
  {
   "cell_type": "markdown",
   "id": "cd588c97-27ba-4217-ad57-4348fc487c5b",
   "metadata": {},
   "source": [
    "* Expandir una columna a varias filas: **.pivot()**\n",
    "\n",
    "Imagina ahora que tienes una lsita de adyacencia de interacciones entre plantas y polinizadores como la de abajo, pero te interesa trabajar con la matriz de adyacencia. Puedes usar .Pivot para extender la columna de animales a diferentes columnas, y quedarnos con los valores de una de las interacciones (o las dos)"
   ]
  },
  {
   "cell_type": "code",
   "execution_count": null,
   "id": "38ed1d3b-78d7-426d-9fc0-8f40e4dc5aee",
   "metadata": {},
   "outputs": [],
   "source": [
    "#de datos en 1 clumna a varias columnas: pivot\n",
    "df = pd.DataFrame({'Plant': ['P1', 'P1', 'P1', 'P2', 'P2',\n",
    "                           'P2'],\n",
    "                   'Animal': ['A1', 'A2', 'A3', 'A1', 'A2', 'A3'],\n",
    "                   'Dispersion': [1, 3, 0, 0, 3, 1],\n",
    "                   'Herbivory': [0, 2, 1, 1, 2, 0]})\n",
    "display(df)"
   ]
  },
  {
   "cell_type": "code",
   "execution_count": null,
   "id": "aed11337-1a72-47fc-ae6c-61dfb6a79807",
   "metadata": {},
   "outputs": [],
   "source": [
    "incidence_M=df.pivot(index='Plant', columns='Animal', values='Dispersion') # incidence matrix of dispersion\n",
    "display(incidence_M)\n",
    "sns.heatmap(incidence_M, cmap=\"BuPu\")\n",
    "plt.show()\n",
    "df.pivot_table(values=['Dispersion', 'Herbivory'], index='Plant', columns='Animal') # multi incidence matrix of dispersion and herbivory"
   ]
  },
  {
   "cell_type": "code",
   "execution_count": null,
   "id": "352d81fe-2144-4462-8661-f7f6daad3fea",
   "metadata": {},
   "outputs": [],
   "source": [
    "#siempre podemos intercambiar filas y columnas con .T, haciendo la traspuesta\n",
    "df.T"
   ]
  },
  {
   "cell_type": "code",
   "execution_count": null,
   "id": "28d063e0-6d22-4da0-965b-24404e4776a7",
   "metadata": {},
   "outputs": [],
   "source": [
    "# RE-ESTRUCTURANDO LOS DATOS\n",
    "## Pivot\n",
    "## Traspuesta"
   ]
  },
  {
   "cell_type": "code",
   "execution_count": null,
   "id": "748ad202-56b6-4df8-865f-adf1648419d2",
   "metadata": {},
   "outputs": [],
   "source": []
  }
 ],
 "metadata": {
  "kernelspec": {
   "display_name": "Python 3 (ipykernel)",
   "language": "python",
   "name": "python3"
  },
  "language_info": {
   "codemirror_mode": {
    "name": "ipython",
    "version": 3
   },
   "file_extension": ".py",
   "mimetype": "text/x-python",
   "name": "python",
   "nbconvert_exporter": "python",
   "pygments_lexer": "ipython3",
   "version": "3.9.12"
  }
 },
 "nbformat": 4,
 "nbformat_minor": 5
}
