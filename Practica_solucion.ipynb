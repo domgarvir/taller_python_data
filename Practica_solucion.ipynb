{
 "cells": [
  {
   "cell_type": "code",
   "execution_count": null,
   "id": "e5237fb8-042a-41d6-b814-179dd303fb36",
   "metadata": {},
   "outputs": [],
   "source": [
    "import pandas as pd\n",
    "import matplotlib.pyplot as plt\n",
    "import seaborn as sns\n",
    "from statannot import add_stat_annotation"
   ]
  },
  {
   "cell_type": "markdown",
   "id": "2273ced7-c138-4e5e-b5b6-2989760c10a0",
   "metadata": {},
   "source": [
    "###########################\n",
    "\n",
    "# Data Overview\n",
    "\n",
    "Importa la base de datos y responde a las siguientes preguntas"
   ]
  },
  {
   "cell_type": "code",
   "execution_count": null,
   "id": "8abef9e8-d050-4eaa-b9b2-9c4d615267fa",
   "metadata": {},
   "outputs": [],
   "source": [
    "filename=\"./Data/World Alcohol Consumption Dataset.csv\"\n",
    "alcohol_df=pd.read_csv(filename) #lee el fichero"
   ]
  },
  {
   "cell_type": "markdown",
   "id": "379a1be0-d99d-4848-8a00-c6bce2afe258",
   "metadata": {},
   "source": [
    "1 - ¿Cuantas filas y columnas tiene la base de datos?"
   ]
  },
  {
   "cell_type": "code",
   "execution_count": null,
   "id": "60512067-6c7e-49af-839e-a96f9a26457a",
   "metadata": {},
   "outputs": [],
   "source": [
    "alcohol_df.shape #devuelve el numero de filas (100) y columnas (5)"
   ]
  },
  {
   "cell_type": "markdown",
   "id": "5fac7190-d29d-48eb-9f17-974dbbc5cb1c",
   "metadata": {},
   "source": [
    "2 - ¿Cuántas variables numéricas hay? ¿y categóricas?"
   ]
  },
  {
   "cell_type": "code",
   "execution_count": null,
   "id": "762021d8-aed3-43ca-b220-fa9b34bdb0ba",
   "metadata": {},
   "outputs": [],
   "source": [
    "alcohol_df.info() # hay dos variables numéricas:Year y Display value, y 3 categóricas: Region, Country, and Type"
   ]
  },
  {
   "cell_type": "markdown",
   "id": "64a2d16b-0496-4581-9373-7b3fa25502c0",
   "metadata": {},
   "source": [
    "3 - ¿Cuál es el último año incluído en los datos?, ¿y el primero?"
   ]
  },
  {
   "cell_type": "code",
   "execution_count": null,
   "id": "576b1856-7da3-46d8-bae1-5e576db425ce",
   "metadata": {},
   "outputs": [],
   "source": [
    "alcohol_df.describe() #el primer año incluído es 1984 y el último 1989"
   ]
  },
  {
   "cell_type": "code",
   "execution_count": null,
   "id": "8f9533d0-0ed4-4640-ae1b-1946aa8dad01",
   "metadata": {},
   "outputs": [],
   "source": [
    "#También podemos sacarlos directamente con estas funciones: .min() .max() .mean() .std() .meadian() .count()\n",
    "print(alcohol_df.min())\n",
    "#el valor mínimo en la columna año es 1984\n",
    "print(alcohol_df.max())\n",
    "#el último año es 1989"
   ]
  },
  {
   "cell_type": "markdown",
   "id": "688c06f1-7cd9-4711-8297-276f8da864e1",
   "metadata": {},
   "source": [
    "4 - ¿Cómo se distribuye el Display value?"
   ]
  },
  {
   "cell_type": "code",
   "execution_count": null,
   "id": "83fb259d-d038-418c-b030-211b50fe1383",
   "metadata": {},
   "outputs": [],
   "source": [
    "alcohol_df.hist() #hist nos permite hacer los histogramas de las variables numericas directamente\n"
   ]
  },
  {
   "cell_type": "markdown",
   "id": "6846768b-c48a-403b-9914-a2e42fcb641f",
   "metadata": {
    "jp-MarkdownHeadingCollapsed": true,
    "tags": []
   },
   "source": [
    "###########################\n",
    "# Data subsets and query"
   ]
  },
  {
   "cell_type": "markdown",
   "id": "4716cb2c-bf86-4ca8-9a9e-c2bcefcc64c5",
   "metadata": {},
   "source": [
    "Usando la base de datos de pokemons, responde a las siguientes preguntas"
   ]
  },
  {
   "cell_type": "code",
   "execution_count": null,
   "id": "ac63bab4-4af4-4b42-bf97-6d76dfd56e6a",
   "metadata": {},
   "outputs": [],
   "source": [
    "filename=\"./Data/pokemon_clean.csv\"\n",
    "pokemon_df=pd.read_csv(filename,index_col=0)"
   ]
  },
  {
   "cell_type": "markdown",
   "id": "4cdea8f3-e0ec-4aff-9b93-00ebd3263a2d",
   "metadata": {},
   "source": [
    "1. Encuentra los pokemons legendarios de tipo hielo (con seleccion booleana)"
   ]
  },
  {
   "cell_type": "code",
   "execution_count": null,
   "id": "ea3028e8-7f5a-40de-bd4c-a8198b46328e",
   "metadata": {},
   "outputs": [],
   "source": [
    "seleccion=pokemon_df[\"Type 1\"]==\"Ice\"\n",
    "pokemon_df[seleccion & pokemon_df[\"Legendary\"]]"
   ]
  },
  {
   "cell_type": "markdown",
   "id": "33fc38c9-e98e-4c65-84f0-0420953ecbc6",
   "metadata": {},
   "source": [
    "2. Encuentra los pokemons que tengan una velocidad entre 80 y 100 y que sean de tipo 1 \"Grass\" (usando seleccion booleana)"
   ]
  },
  {
   "cell_type": "code",
   "execution_count": null,
   "id": "9b2725cf-ea2f-4bb3-b7b6-f386dd3182ca",
   "metadata": {},
   "outputs": [],
   "source": [
    "seleccion1=pokemon_df[\"Speed\"].between(80,100)\n",
    "seleccion2=pokemon_df[\"Type 1\"] == \"Grass\"\n",
    "pokemon_df[seleccion1 & seleccion2]"
   ]
  },
  {
   "cell_type": "markdown",
   "id": "43e0ae96-0c6f-4651-9c71-62195f47fdc9",
   "metadata": {},
   "source": [
    "3. Encuentra los pokemons cuyo nombre termine por \"saur\"  con \"HP\" mayor que 30 (seleccion booleana)"
   ]
  },
  {
   "cell_type": "code",
   "execution_count": null,
   "id": "5c6323f7-4ca6-4e59-b985-9ada844fb271",
   "metadata": {},
   "outputs": [],
   "source": [
    "seleccion1=pokemon_df[\"Name\"].str.endswith(\"saur\")\n",
    "seleccion2=pokemon_df[\"HP\"]>30\n",
    "pokemon_df[seleccion1 & seleccion2]"
   ]
  },
  {
   "cell_type": "markdown",
   "id": "64f43c68-42a1-46b6-9bdf-af366fabd8eb",
   "metadata": {},
   "source": [
    "4. Encuentra los pokemons que tienen una defensa mayor que 1.5 veces su ataque"
   ]
  },
  {
   "cell_type": "code",
   "execution_count": null,
   "id": "3981bf67-7260-49a7-afa8-a36cb9114b16",
   "metadata": {},
   "outputs": [],
   "source": [
    "seleccion=pokemon_df[\"Defense\"]>pokemon_df[\"Attack\"]*1.5\n",
    "pokemon_df[seleccion]"
   ]
  },
  {
   "cell_type": "markdown",
   "id": "b8baa5b3-6574-4462-a010-a71e22dcee78",
   "metadata": {},
   "source": [
    "5. Encuentra todos los pokemons que tienen \"Mega \" en el nombre, y guarda la selección como una columna"
   ]
  },
  {
   "cell_type": "code",
   "execution_count": null,
   "id": "3b10af32-513e-4485-8896-26cc41448674",
   "metadata": {},
   "outputs": [],
   "source": [
    "seleccion=pokemon_df[\"Name\"].str.contains(\"Mega \")\n",
    "pokemon_df.loc[:,\"Mega\"]=seleccion\n",
    "pokemon_df"
   ]
  },
  {
   "cell_type": "markdown",
   "id": "f4b492f3-f6d7-4b6f-8d30-108594d71840",
   "metadata": {},
   "source": [
    "##########################\n",
    "\n",
    "Usando la base de datos del señor de los anillos, responde a estas preguntas"
   ]
  },
  {
   "cell_type": "code",
   "execution_count": null,
   "id": "6fddbd88-a812-438c-b6ca-a8b1f4d01539",
   "metadata": {},
   "outputs": [],
   "source": [
    "filename=\"./Data/WordsByCharacter.csv\"\n",
    "words_df=pd.read_csv(filename)\n",
    "multi_df = words_df.set_index(['Film', 'Chapter', 'Race', 'Character']).sort_index()\n",
    "multi_df"
   ]
  },
  {
   "cell_type": "markdown",
   "id": "e46066f1-11f5-4ed7-9816-bdd623a9f792",
   "metadata": {},
   "source": [
    "1. ¿Qué personajes hablan en el primer capítulo de  “The Fellowship of the Ring”? (responde con .loc)"
   ]
  },
  {
   "cell_type": "code",
   "execution_count": null,
   "id": "98a5730b-90e1-4454-af00-99c8e19cb837",
   "metadata": {},
   "outputs": [],
   "source": [
    "multi_df.loc[('The Fellowship Of The Ring', '01: Prologue'), :] #como estos índices son los primeros podemos directamente seleccionar el libro y el capitulo que queremos"
   ]
  },
  {
   "cell_type": "markdown",
   "id": "54a7a601-e1bd-4f12-a31d-6904aa2b05d0",
   "metadata": {},
   "source": [
    "2. ¿Cuales son los tres primeros elfos en hablar en “The Fellowship of the Ring”? (responder con .loc)"
   ]
  },
  {
   "cell_type": "code",
   "execution_count": null,
   "id": "1aae9b40-c810-4be2-8236-4cf0e0f5e30c",
   "metadata": {},
   "outputs": [],
   "source": [
    "multi_df.loc[('The Fellowship Of The Ring',slice(None),'Elf'), :].head(3) #aqui debemos saltarnos \"Chapter\" porque NO SABEMOS en qué acpitulo hablan, hay que ponerlos todos"
   ]
  },
  {
   "cell_type": "markdown",
   "id": "feb1b523-684a-4512-a693-79642bf963d4",
   "metadata": {},
   "source": [
    "3. ¿Cuánto hablan Saruman y Gandalf en “The Two Towers”? (responde con .loc)"
   ]
  },
  {
   "cell_type": "code",
   "execution_count": null,
   "id": "cab26592-63f0-4665-b04f-8fc599596724",
   "metadata": {},
   "outputs": [],
   "source": [
    "multi_df.loc[('The Two Towers',slice(None),slice(None),['Gandalf','Saruman']), :] # De nuevo nos saltamos los indices chapter y race, yaq solo tenemos filtro en libro y personaje"
   ]
  },
  {
   "cell_type": "markdown",
   "id": "75d68fd4-b830-4a89-8c07-cc9d6445d87b",
   "metadata": {
    "tags": []
   },
   "source": [
    "# Limpiando Datos"
   ]
  },
  {
   "cell_type": "code",
   "execution_count": null,
   "id": "15e8b8a6-87f9-4993-9f75-06318d487ad0",
   "metadata": {
    "tags": []
   },
   "outputs": [],
   "source": [
    "filename=\"./Data/sales_order.csv\"\n",
    "sales_df=pd.read_csv(filename,index_col=0)\n",
    "display(sales_df)"
   ]
  },
  {
   "cell_type": "markdown",
   "id": "2565327a-059e-4c42-9acd-77a4d35b239d",
   "metadata": {
    "tags": []
   },
   "source": [
    "1. Write a Pandas program to detect missing values of a given DataFrame. Display True or False"
   ]
  },
  {
   "cell_type": "code",
   "execution_count": null,
   "id": "c82b5d10-33fe-4810-9b18-307fb499b73c",
   "metadata": {
    "tags": []
   },
   "outputs": [],
   "source": [
    "print(sales_df.isna())"
   ]
  },
  {
   "cell_type": "markdown",
   "id": "9cb94a4a-846b-4b4d-a05a-669bdd6a85c7",
   "metadata": {
    "tags": []
   },
   "source": [
    "2. Write a Pandas program to identify the column(s) of a given DataFrame which have at least one missing value."
   ]
  },
  {
   "cell_type": "code",
   "execution_count": null,
   "id": "7fabe9a2-ce5b-4e20-acfb-95ea81134230",
   "metadata": {
    "tags": []
   },
   "outputs": [],
   "source": [
    "print(sales_df.isna().any())"
   ]
  },
  {
   "cell_type": "markdown",
   "id": "cbc98ab7-eb23-4365-b9bb-81f476cfd63d",
   "metadata": {
    "tags": []
   },
   "source": [
    "3. Write a Pandas program to keep the rows with at least 2 NaN values in a given DataFrame."
   ]
  },
  {
   "cell_type": "code",
   "execution_count": null,
   "id": "30ed3e3b-262a-4ddd-b9ea-5ca5df3b3e80",
   "metadata": {
    "tags": []
   },
   "outputs": [],
   "source": [
    "display(sales_df)\n",
    "result = sales_df.dropna(thresh=2)\n",
    "display(result)"
   ]
  },
  {
   "cell_type": "markdown",
   "id": "5d855690-b729-4dde-a6ae-1137a508977d",
   "metadata": {
    "tags": []
   },
   "source": [
    "# Agrupando valores "
   ]
  },
  {
   "cell_type": "markdown",
   "id": "daca8b2e-dad5-4580-87b6-de4b927a0091",
   "metadata": {},
   "source": [
    "1. Agrupa los pokemons por su generación y si son o no \"Mega\" (usa groupby), y obten el numéro de pokemons (usa .count()) que caen dentro de esos casos. Despoués usa seaborn para obtener un gráfico de barras en las que las categorias sean la generacion y el hue si son o no megas"
   ]
  },
  {
   "cell_type": "code",
   "execution_count": null,
   "id": "9d68b8ff-1ee7-40d1-b192-e4c949cb5c20",
   "metadata": {},
   "outputs": [],
   "source": [
    "Mega_df=pokemon_df.groupby([\"Generation\",\"Mega\"]).count()[\"#\"].reset_index() #agrupamos según dos variables, y contamos los casos. Nos quedamos solo con 1 columna. \n",
    "# Como obtenemos una df multiindex tenemos que hacer .reset_index() para usarla en seaborn\n",
    "sns.barplot(x=\"Generation\",y=\"#\", hue=\"Mega\", data=Mega_df)\n",
    "plt.show()"
   ]
  },
  {
   "cell_type": "markdown",
   "id": "d963bdca-8642-4142-b08e-f9f24669d524",
   "metadata": {},
   "source": [
    "2. Encuentra si el ataque total de los poquemons Legendarios es diferente de los poquemos normales (usa sns.boxplot o sns.stripplot)"
   ]
  },
  {
   "cell_type": "code",
   "execution_count": null,
   "id": "b5c99c16-06ae-460b-8c5a-ddf62d9fb7db",
   "metadata": {},
   "outputs": [],
   "source": [
    "pokemon_df[\"Total_Atk\"]=pokemon_df[\"Attack\"]+pokemon_df[\"Sp. Atk\"] #guardar la suma de ataques en nueva columna\n",
    "sns.stripplot(x='Legendary',y='Total_Atk',data=pokemon_df)\n",
    "sns.boxplot(x='Legendary',y='Total_Atk',data=pokemon_df)\n",
    "plt.show()\n",
    "#Así podemos verlos pero no podemos saber si son realmente diferentes o no. Usemos statannot"
   ]
  },
  {
   "cell_type": "code",
   "execution_count": null,
   "id": "b4f67def-328d-43b1-8106-71e1bd97b764",
   "metadata": {},
   "outputs": [],
   "source": [
    "df= pokemon_df\n",
    "df[\"Legendary_str\"]= df['Legendary'].map({True: 'True', False: 'False'}) #statannot no trabaja con booleans, los convertimos en strings\n",
    "x = \"Legendary_str\"\n",
    "y = \"Total_Atk\"\n",
    "columns = list(df[x].unique())\n",
    "f, ax = plt.subplots(1, 1, figsize=(6,4))\n",
    "bplot=sns.boxplot(data=df, x=x, y=y, ax=ax)\n",
    "sns.stripplot(data=df, x=x, y=y, ax=ax, color='black')\n",
    "test_results = add_stat_annotation(bplot, data=df, x=x, y=y, #order=order,\n",
    "                                   box_pairs=[(\"False\", \"True\")],#, (\"Thur\", \"Sat\"), (\"Fri\", \"Sun\")],\n",
    "                                   test='t-test_ind', text_format='star',\n",
    "                                   loc='outside', verbose=0)\n",
    "\n",
    "plt.tight_layout()\n",
    "plt.show()\n",
    "#test_results"
   ]
  },
  {
   "cell_type": "markdown",
   "id": "de313836-4eb1-402e-883e-6f5c50c65730",
   "metadata": {},
   "source": [
    "3. Los métodos ded agregación funcionan también en df indexadas Volviendo a la del LOTR ¿Cuánto habla Isildur en total en todas las películas? (usa .xs)"
   ]
  },
  {
   "cell_type": "code",
   "execution_count": null,
   "id": "245adecb-d54f-4392-85e7-da4a57e25399",
   "metadata": {},
   "outputs": [],
   "source": [
    "multi_df.xs('Isildur', level='Character').sum() #solo necesitamos filtar al personaje Isildur, y sumar todo"
   ]
  },
  {
   "cell_type": "markdown",
   "id": "22c71f03-b91a-494b-89ef-3732e3c6bb4e",
   "metadata": {},
   "source": [
    "4. Sin embargo funcionan mejor para cuando buscamos algo concreto. Encuentra el número de palabras que habla cada una de las razas (es más sencillo si reseteas el index y agrupas por raza)"
   ]
  },
  {
   "cell_type": "code",
   "execution_count": null,
   "id": "fbf5adc4-02c9-4ca6-9f1d-52cedb51b129",
   "metadata": {},
   "outputs": [],
   "source": [
    "print(multi_df.reset_index().groupby(\"Race\").sum().sort_values(by=\"Words\",ascending=False))\n",
    "\n",
    "#Sin embargo el número concreto de palabras que dicen los elfos es más corto con:\n",
    "print(\"\\nLos elfos dicen %s palabras\" % multi_df.xs('Elf', level='Race').sum()[\"Words\"]) "
   ]
  },
  {
   "cell_type": "markdown",
   "id": "a1f1ee4b-e4d6-410d-aa70-f3cb9669733e",
   "metadata": {},
   "source": [
    "5. ¿Cuanta cantidad de diálogo tienen las diferentes razas de media? (usa un barplot)"
   ]
  },
  {
   "cell_type": "code",
   "execution_count": null,
   "id": "ba20ca2c-e6ad-4f29-94e3-7a74672d2119",
   "metadata": {},
   "outputs": [],
   "source": [
    "from numpy import median\n",
    "from numpy import mean\n",
    "sns.barplot(data=words_df, x=\"Race\", y=\"Words\", estimator=mean)\n",
    "plt.show()"
   ]
  },
  {
   "cell_type": "markdown",
   "id": "662f9c5c-885e-475b-8c96-3279acf17265",
   "metadata": {},
   "source": [
    "5. Encuentra el valor medio, la varianza y el número de elementos del ataque total de cada tipo 1 de pokemon, y guardalo en unas nuevas variables"
   ]
  },
  {
   "cell_type": "code",
   "execution_count": null,
   "id": "3edc50d5-9814-4d55-b19e-dfd33175c81c",
   "metadata": {},
   "outputs": [],
   "source": [
    "#obtener el ataque total\n",
    "pokemon_df[\"Total_Atk\"]=pokemon_df[\"Attack\"]+pokemon_df[\"Sp. Atk\"]\n",
    "#encontrar los valores medio y la dispersion y el numero de casos por grupo\n",
    "attack_mean=pokemon_df.groupby(by=\"Type 1\").mean(numeric_only=True)[\"Total_Atk\"]\n",
    "attack_std=pokemon_df.groupby(by=\"Type 1\").std(numeric_only=True)[\"Total_Atk\"]\n",
    "attack_n=pokemon_df.groupby(by=\"Type 1\").count()[\"Total_Atk\"]\n",
    "attack_mean"
   ]
  },
  {
   "cell_type": "markdown",
   "id": "c69b4fb3-674a-4ee2-b0f4-03cde92854d5",
   "metadata": {
    "tags": []
   },
   "source": [
    "# Correlaciones"
   ]
  },
  {
   "cell_type": "markdown",
   "id": "f6e6ac82-b99f-4959-9665-3c4c73132d25",
   "metadata": {},
   "source": [
    "1. ¿Existe correlación entre la generación y el número de pokemons mega?"
   ]
  },
  {
   "cell_type": "code",
   "execution_count": null,
   "id": "ba72d5e0-81da-482d-8ca9-7876b1a1a67c",
   "metadata": {},
   "outputs": [],
   "source": [
    "pokemon_df[\"Mega_str\"]= pokemon_df['Mega'].map({True: 'True', False: 'False'}) #statannot no trabaja con booleans, los convertimos en stringsM\n",
    "Mega_by_generation=pokemon_df.groupby([\"Mega_str\",\"Generation\"]).count()[\"#\"].to_frame()#.reset_index()\n",
    "Mega_by_generation.xs(\"True\", level=\"Mega_str\").reset_index().corr()"
   ]
  },
  {
   "cell_type": "markdown",
   "id": "8a87f7c1-2f12-4eda-b108-2e825dab9321",
   "metadata": {},
   "source": [
    "2. ¿Existe correlacion entre el numero total de palabras y las razas en LOTR?"
   ]
  },
  {
   "cell_type": "code",
   "execution_count": null,
   "id": "018244a3-cc5e-42c8-8aac-77c21df9431a",
   "metadata": {},
   "outputs": [],
   "source": [
    "from pandas import factorize #vamos a tener que factorizar!\n",
    "words_by_race=multi_df.reset_index().groupby(\"Race\").sum().sort_values(by=\"Words\",ascending=False).reset_index()\n",
    "display(words_by_race)\n",
    "labels, categories = factorize(words_by_race[\"Race\"])\n",
    "words_by_race[\"Race_labels\"] = labels\n",
    "print(\"corr:\",abs(words_by_race[\"Words\"].corr(words_by_race[\"Race_labels\"])))\n",
    "sns.scatterplot(x=\"Race_labels\", y=\"Words\", data=words_by_race)\n",
    "plt.show()"
   ]
  },
  {
   "cell_type": "markdown",
   "id": "e7f7c83d-9b40-4694-86f3-936d3bbdf874",
   "metadata": {},
   "source": [
    "# Combinando DataFrames"
   ]
  },
  {
   "cell_type": "markdown",
   "id": "a542c718-3d57-4ef6-830d-94da84c81c66",
   "metadata": {},
   "source": [
    "1. Combina las tres series obtenidas antes (ataque total medio, varianza y nº de casos) en una nueva dataframe, ordena los tipos en funcion de su ataque, y plotea el resultado usando un gráfico de barras"
   ]
  },
  {
   "cell_type": "code",
   "execution_count": null,
   "id": "03102c5c-bf61-4002-b0d0-9a1a776a7f37",
   "metadata": {},
   "outputs": [],
   "source": [
    "total_atack_df=pd.concat([attack_mean, attack_std,attack_n], axis=1) #si son más de dos es más sencillo con concat que permite pegar una lsita de df segun flas o columnas\n",
    "total_atack_df.columns=[\"Mean\",\"Std\",\"N\"]\n",
    "total_atack_df.sort_values(\"Mean\",ascending=False,inplace=True)\n",
    "print(total_atack_df)\n",
    "#f, ax= plt.errorbar(total_atack_df.index, 'Mean', yerr='Std',data=total_atack_df)\n",
    "plt.bar(total_atack_df.index, total_atack_df[\"Mean\"], yerr=total_atack_df[\"Std\"], align='center', alpha=0.5, ecolor='black', capsize=10)\n",
    "plt.xticks(rotation = 90)\n",
    "plt.tight_layout()\n",
    "plt.show()"
   ]
  },
  {
   "cell_type": "markdown",
   "id": "57d0651c-0422-47f3-9883-c50b0557f100",
   "metadata": {},
   "source": [
    "1.b Haz un gráfico de barras del ataque total de los pokemons usando sns.barplot "
   ]
  },
  {
   "cell_type": "code",
   "execution_count": null,
   "id": "d02002f7-fe90-4642-bc4d-e44b1677312e",
   "metadata": {},
   "outputs": [],
   "source": [
    "sns.barplot(x=\"Type 1\", y=\"Total_Atk\", data=pokemon_df)#,order=total_atack_df.index) #¿Cómo puedo ordenarlos de forma decreciente? usando la df de arriba\n",
    "plt.xticks(rotation = 90)\n",
    "plt.show()\n",
    "#Seaborn hace muchos cálculos por ti, pero para ordenar y ponerlo bonito vas a necesitar tener manejo de los groupby, medidas agregadas y sort"
   ]
  },
  {
   "cell_type": "markdown",
   "id": "eb8755df-9529-409a-b24a-aabc7cd86148",
   "metadata": {},
   "source": [
    "# Re-shaping DataFrames"
   ]
  },
  {
   "cell_type": "markdown",
   "id": "eecca100-7f5f-4586-abc2-d3466eda4a38",
   "metadata": {},
   "source": [
    "1. ¿Qué Hobbit habla más en cada película, y a lo largo de las tres películas? (responde con pivot y .loc)\n"
   ]
  },
  {
   "cell_type": "markdown",
   "id": "6435dae6-3598-4ed6-922f-eca246c13fe2",
   "metadata": {},
   "source": [
    "Primero obtenemos una tabla con los valores de \"Words\" agregados para cada personaje en cada película. Para eso vamos a expandir la columna Film, y como función vamos a calcular la suma de las palabras. Mantendremos como indices tanto la raza como los personajes."
   ]
  },
  {
   "cell_type": "code",
   "execution_count": null,
   "id": "0b8ef9ea-b9fd-4e63-a1bc-5fdde73379af",
   "metadata": {},
   "outputs": [],
   "source": [
    "pivoted = multi_df.pivot_table(\n",
    "                         #values=\"Words\", #si no especifico genera un multiindex con varios valores\n",
    "                         index = ['Race','Character'] ,#los valores que se quedan como index\n",
    "                         columns = 'Film', #lo que vamos a convertir en columnas\n",
    "                         aggfunc = 'sum', #como agregamos los valores, aqui sumando\n",
    "                         fill_value = 0).sort_index()\n",
    "order = [('Words', 'The Fellowship Of The Ring'),\n",
    "         ('Words', 'The Two Towers'),\n",
    "         ('Words', 'The Return Of The King')]\n",
    "pivoted.loc[:,('Words', 'All Films')]=pivoted.sum(axis=1)\n",
    "\n",
    "display(pivoted)"
   ]
  },
  {
   "cell_type": "markdown",
   "id": "4f6b4c11-04bc-4622-a727-cbfc3a564b53",
   "metadata": {},
   "source": [
    "Ahora queremos ver en especial solo cuales son los hobbits que hablan mas, es decir, nos interesa una raza en particular"
   ]
  },
  {
   "cell_type": "code",
   "execution_count": null,
   "id": "2b95ae73-9eaa-48ca-94a7-504a38ac926a",
   "metadata": {},
   "outputs": [],
   "source": [
    "pivoted.loc['Hobbit'].sort_values([('Words', 'All Films')],ascending=False)"
   ]
  },
  {
   "cell_type": "markdown",
   "id": "6bd89bbf-36df-4013-8509-c925bf2394c8",
   "metadata": {},
   "source": [
    "2. Continuemos con Pivot y ahora  vamos a obtner la defensa media en función del tipo 1 y si es o no legendario"
   ]
  },
  {
   "cell_type": "code",
   "execution_count": null,
   "id": "d11df1c2-69fb-427d-9c03-43a76c26d8a3",
   "metadata": {},
   "outputs": [],
   "source": [
    "pokemon_df.pivot_table(\n",
    "                         values=[\"Defense\",\"HP\"], #si no especifico genera un multiindex con varios valores\n",
    "                         index = ['Type 1','Legendary'] ,#los valores que se quedan como index\n",
    "                         #columns = 'Film', #lo que vamos a convertir en columnas\n",
    "                         aggfunc = 'sum', #como agregamos los valores, aqui sumando\n",
    "                         fill_value = 0).sort_index()"
   ]
  }
 ],
 "metadata": {
  "kernelspec": {
   "display_name": "Python 3 (ipykernel)",
   "language": "python",
   "name": "python3"
  },
  "language_info": {
   "codemirror_mode": {
    "name": "ipython",
    "version": 3
   },
   "file_extension": ".py",
   "mimetype": "text/x-python",
   "name": "python",
   "nbconvert_exporter": "python",
   "pygments_lexer": "ipython3",
   "version": "3.9.12"
  }
 },
 "nbformat": 4,
 "nbformat_minor": 5
}
