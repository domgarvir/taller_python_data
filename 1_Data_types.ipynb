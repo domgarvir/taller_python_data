{
 "cells": [
  {
   "cell_type": "code",
   "execution_count": null,
   "id": "9a6a89fa-6554-4d42-9df4-4cac55ff561b",
   "metadata": {},
   "outputs": [],
   "source": [
    "#load libraries\n",
    "import numpy as np"
   ]
  },
  {
   "cell_type": "markdown",
   "id": "6e8e9613-2787-460b-98de-69647f3f08dc",
   "metadata": {},
   "source": [
    "# Introducción a Python\n",
    "### Virginia Domínguex García - Estación Biológica de Doñana - CSIC"
   ]
  },
  {
   "cell_type": "markdown",
   "id": "7a2e0dcd-ae1b-4ff2-a800-c00f163b4166",
   "metadata": {},
   "source": [
    "# Tipos de datos básicos\n",
    "En python tenemos los siguientes tipos de datos base:\n",
    "* Integers: **int** \n",
    "* Floating point: **float**\n",
    "* Complex numbers: **complex**\n",
    "* Boolean: **bool**\n",
    "* No value: **None**\n",
    "* Strings: **str**\n",
    "\n",
    "Para saber en cualquier momento cuál es el tipo de una variable puedes usar el comando **type** así"
   ]
  },
  {
   "cell_type": "code",
   "execution_count": null,
   "id": "0cae673c-cb07-4033-9691-fc60c300ad56",
   "metadata": {},
   "outputs": [],
   "source": [
    "NGenes = 1500 # number of genes measured\n",
    "type(NGenes)"
   ]
  },
  {
   "cell_type": "code",
   "execution_count": null,
   "id": "9e605ac5-375f-4fa4-a4ff-7dc6dacda600",
   "metadata": {},
   "outputs": [],
   "source": [
    "Km = 0.015 # Michaelis constant for chymotrypsin type(Km) # float\n",
    "type(Km)"
   ]
  },
  {
   "cell_type": "code",
   "execution_count": null,
   "id": "6476ff0e-92ef-44fe-93e3-e30d301227f0",
   "metadata": {},
   "outputs": [],
   "source": [
    "isTransFactor = True # is protein a transcription factor?\n",
    "type(isTransFactor) # bool"
   ]
  },
  {
   "cell_type": "code",
   "execution_count": null,
   "id": "1823a37a-d5f2-408c-90ac-2415b8cef820",
   "metadata": {},
   "outputs": [],
   "source": [
    "name = 'Félix'\n",
    "surname = \"Rodríguez\"\n",
    "type(name)"
   ]
  },
  {
   "cell_type": "markdown",
   "id": "a08d43fa-588f-46d1-ad62-9c6bd5cc8e99",
   "metadata": {},
   "source": [
    "# Tipos de operadores \n",
    "Para operar con estos datos usaremos diferentes tipos de operadores :\n",
    "\n",
    "* **Aritméticos**: +, -, *, /, //,  %, ** \n",
    "* **Relacionales**: ==, !=, <, >, <=, >=, in \n",
    "* **Lógicos**: not, and, or\n",
    "\n",
    "En Python muchos de estos operadores están sobrecargados (\"overloaded\"), es decir, que actúan diferente en función del tipo de dato que estemos usando."
   ]
  },
  {
   "cell_type": "code",
   "execution_count": null,
   "id": "54db5f43-78b1-4a21-96bd-5685e7c01216",
   "metadata": {},
   "outputs": [],
   "source": [
    "# + aplicado a números\n",
    "3+8"
   ]
  },
  {
   "cell_type": "code",
   "execution_count": null,
   "id": "540d437a-ac41-40de-94e2-a0b3f6ca41d5",
   "metadata": {},
   "outputs": [],
   "source": [
    "# + aplicado a str\n",
    "\"ho\" + \"la\""
   ]
  },
  {
   "cell_type": "code",
   "execution_count": null,
   "id": "020bdc5e-4af9-4ac1-bb95-65fc3dcf7ee6",
   "metadata": {},
   "outputs": [],
   "source": [
    "# * aplicado a números\n",
    "3*5"
   ]
  },
  {
   "cell_type": "code",
   "execution_count": null,
   "id": "78f9750f-77ff-4903-b67d-dfb7d621cb31",
   "metadata": {},
   "outputs": [],
   "source": [
    "# * aplicado a str repite la secuenca n veces\n",
    "# Repeat the sequence \"actg\" 5 times\n",
    "mySeq = \"Mola\"\n",
    "mySeq*5"
   ]
  },
  {
   "cell_type": "code",
   "execution_count": null,
   "id": "5fe5bdda-a019-499c-91d2-d80c6a2b5891",
   "metadata": {},
   "outputs": [],
   "source": [
    "# detectar si una cadena está dentro de otra\n",
    "dna1 = \"acgtttgacgtaaacgttgacgttaa\"\n",
    "motif = \"acgtaaa\"\n",
    "motif in dna1"
   ]
  },
  {
   "cell_type": "code",
   "execution_count": null,
   "id": "6fa4cdca-e24f-48ff-8be8-e7499eaa2acb",
   "metadata": {},
   "outputs": [],
   "source": [
    "3 in 365"
   ]
  },
  {
   "cell_type": "code",
   "execution_count": null,
   "id": "e16a55e1-a946-4dd6-bb9c-a734beba5b64",
   "metadata": {},
   "outputs": [],
   "source": [
    "\"3\" in \"365\""
   ]
  },
  {
   "cell_type": "markdown",
   "id": "0e3150f0-90f4-4f6b-a7be-0ec31f37d179",
   "metadata": {},
   "source": [
    "**Slicing** [ ...] : Este operador os permite acceder a componentes de un array, como por ejemplo una variable **str**\n",
    "\n",
    "**¡¡OJO!!** En Python empezamos a contar desde 0, y no desde 1!"
   ]
  },
  {
   "cell_type": "code",
   "execution_count": null,
   "id": "bf47126a-ecfa-4af0-8466-9cda16690ae0",
   "metadata": {},
   "outputs": [],
   "source": [
    "name = \"Félix Rodríguez\"\n",
    "name[0] # first letter in name"
   ]
  },
  {
   "cell_type": "code",
   "execution_count": null,
   "id": "51bd6477-855f-4ff7-9f62-c7dfb5353de6",
   "metadata": {},
   "outputs": [],
   "source": [
    "name[0:5] # the first four letters in name"
   ]
  },
  {
   "cell_type": "code",
   "execution_count": null,
   "id": "a17cf02a-5f75-46ae-a0bb-e7543f1cb3b7",
   "metadata": {},
   "outputs": [],
   "source": [
    "name[6:] # from the sixth letter until the end"
   ]
  },
  {
   "cell_type": "code",
   "execution_count": null,
   "id": "6be48df7-4a6b-4f36-af3e-d8b1d3b72063",
   "metadata": {},
   "outputs": [],
   "source": [
    "name[-1] # the last letter in name"
   ]
  },
  {
   "cell_type": "code",
   "execution_count": null,
   "id": "d6ec1a1e-3bea-42b3-b5db-28a0006c2b6a",
   "metadata": {},
   "outputs": [],
   "source": [
    "name[-4:] # the last three letters in name"
   ]
  },
  {
   "cell_type": "code",
   "execution_count": null,
   "id": "51aeae3f-d25c-42f9-a261-aea4b107eb8a",
   "metadata": {},
   "outputs": [],
   "source": [
    "name[0:10:2] # Slice in steps of two up to (not including) character 10"
   ]
  },
  {
   "cell_type": "markdown",
   "id": "8fa37cb5-bdfd-47c8-b6f3-44061670dfd4",
   "metadata": {},
   "source": [
    "## Función print\n",
    "Se escribe de la siguiente forma"
   ]
  },
  {
   "cell_type": "code",
   "execution_count": null,
   "id": "21285f34-9b18-4dd1-929d-9c049804fe21",
   "metadata": {},
   "outputs": [],
   "source": [
    "#básico\n",
    "print(\"Hello world\")"
   ]
  },
  {
   "cell_type": "code",
   "execution_count": null,
   "id": "8a9dadfa-701f-41de-8830-215432d33c27",
   "metadata": {},
   "outputs": [],
   "source": [
    "#Incluyendo variables int\n",
    "NSamples = 10 # number of samples we RNA-sequenced\n",
    "NGenes = 18173 # number of genes measured\n",
    "print(\"We sequenced %d samples and measured %d genes\" % (NSamples, NGenes))"
   ]
  },
  {
   "cell_type": "code",
   "execution_count": null,
   "id": "af0a23be-70b4-4d9b-addd-e87e59f76a28",
   "metadata": {},
   "outputs": [],
   "source": [
    "# Incluyendo floats\n",
    "pi = 3.14159265359\n",
    "print(\"pi to 2 decimal is %.2f\" % (pi))\n",
    "print(\"pi to 2 decimal is %.2f\" % (pi))"
   ]
  },
  {
   "cell_type": "markdown",
   "id": "dffe158a-0af8-44b2-bd4d-2d95cc7ede7a",
   "metadata": {},
   "source": [
    "# Tipos de Contenedores de datos\n",
    "\n",
    "En general nunca trabajamos sólo con datos base, sino que los organizamos dentro de unas estructuras llamadas **contenedores**. Estos contenedores tienen además unos métodos asociados (unas funciones propias) que nos dejaran operar con los datos que están en su interior (acceder, modificar, imprimir, etc...)\n",
    "\n",
    "## 1 - listas [], sets {}, tuples ()\n",
    "\n",
    "Pueden ser confusas porque todas son un \"array\" de datos encerrados entre \"paréntesis\", pero se crean de diferente forma y tienen diferentes propiedades:\n",
    "\n",
    "### Listas [] \n",
    "\n",
    "Se crean usando **[]**. Son un array **ORDENADO** y **MUTABLE** de elementos."
   ]
  },
  {
   "cell_type": "code",
   "execution_count": null,
   "id": "8ff98d0e-e8a0-4e04-a8b7-8c1717dce123",
   "metadata": {},
   "outputs": [],
   "source": [
    "genes = [\"Irf1\", \"Ccl3\", \"Il12rb1\", \"Ifng\",\"Ccl3\", \"Cxcl10\"]\n",
    "type(genes)"
   ]
  },
  {
   "cell_type": "code",
   "execution_count": null,
   "id": "95eff7b9-1fec-41a2-be6f-d7d05945665a",
   "metadata": {},
   "outputs": [],
   "source": [
    "# accedemos a cada elemento con el operador Slicing []\n",
    "print(genes[0], genes[-1])"
   ]
  },
  {
   "cell_type": "code",
   "execution_count": null,
   "id": "9677bdb7-86af-4678-8736-b481c76786f2",
   "metadata": {},
   "outputs": [],
   "source": [
    "# podemos cambiarlos\n",
    "genes[0]=\"XXXX\"\n",
    "print(genes[0], genes[-1])"
   ]
  },
  {
   "cell_type": "markdown",
   "id": "a78d45cb-90b2-45dd-be8e-2ce28ded4997",
   "metadata": {},
   "source": [
    "Podemos **iterar** sobre los elementos de una lista"
   ]
  },
  {
   "cell_type": "code",
   "execution_count": null,
   "id": "6507892a-4620-4609-8681-0dced3ef9ac4",
   "metadata": {},
   "outputs": [],
   "source": [
    "for gene in genes:\n",
    "    print(gene)"
   ]
  },
  {
   "cell_type": "markdown",
   "id": "451aa834-6a03-4a0d-af7c-64ddd5fdb765",
   "metadata": {},
   "source": [
    "## Sets {} \n",
    "Se crean usando {}. Son un array **NO ORDENADO** y **MUTABLE** de elementos **ÚNICOS**. Se utilizand para hacer operaciones de sets (unión, intersección). Así por ejemplo si tenemos dos sets de genes y queremos saber su intersección (los genes que están en ambos sets) haremos:\n"
   ]
  },
  {
   "cell_type": "code",
   "execution_count": null,
   "id": "ca64b2c8-610f-4d50-a4d7-1df100819ca0",
   "metadata": {},
   "outputs": [],
   "source": [
    "DEGs = set([\"Irf1\", \"Ccl3\", \"Il12rb1\", \"Ifng\", \"Cxcl10\", \"Ccl4\", \"Hist1h2ah\", \"Iigp2\"\n",
    ", \"Ifit3\"]) # list of DEGs\n",
    "IFG = set([\"Irf1\", \"Ifng\", \"Ifit1\", \"Ifit2\", \"Ifit3\", \"Cxcl10\", \"Cxcl9\"]) # genes in interferon gamma pathway\n",
    "commonGenes = DEGs.intersection(IFG)\n",
    "print(commonGenes)\n",
    "print(DEGs & IFG) # same as \"intersection\" using relational operators"
   ]
  },
  {
   "cell_type": "markdown",
   "id": "af0955f0-3c05-4adf-a329-3eda9189fb2d",
   "metadata": {},
   "source": [
    "Y otra operación que podemos hacer es encontrar los elementos que están o en un set o en otro (evitando repeticiones), así:"
   ]
  },
  {
   "cell_type": "code",
   "execution_count": null,
   "id": "9df828ab-bf3c-4b7f-be28-3df6a5f7dd53",
   "metadata": {},
   "outputs": [],
   "source": [
    "edgeR = set([\"Irf1\", \"Ccl3\", \"Il12rb1\", \"Ccl4\", \"Hist1h2ah\", \"Iigp2\", \"Ifit3\"]) # identified by edgeR\n",
    "DESeq2 = set([\"Irf1\", \"Ccl3\", \"Il12rb1\", \"Ifng\", \"Cxcl10\"]) # identified by DESeq2\n",
    "print(edgeR.union(DESeq2))\n",
    "print(edgeR | DESeq2) # using relational operators"
   ]
  },
  {
   "cell_type": "markdown",
   "id": "667c06d7-d5d9-4d17-a06f-1c642521e65a",
   "metadata": {},
   "source": [
    "Los sets son muy útiles para eliminar elementos repetidos de una lista, por ejemplo:"
   ]
  },
  {
   "cell_type": "code",
   "execution_count": null,
   "id": "3f4826a5-0533-4e17-b427-d4d840bb4310",
   "metadata": {},
   "outputs": [],
   "source": [
    "my_list=[\"cat\",\"dog\",\"cat\",\"bird\", \"snake\"] #lista con elementos repetidos\n",
    "clean_list=list(set(my_list)) #al hacer set(list) eliminamos los elementos repetidos en la lista, y al hacer list(set) convertimos en lista un set.\n",
    "print(clean_list)"
   ]
  },
  {
   "cell_type": "markdown",
   "id": "2bb406f4-83fa-47e3-85d5-1be36366bd34",
   "metadata": {},
   "source": [
    "## Tuples ()\n",
    "Se crean usando (). Son un array **ORDENADO**, e **INMUTABLE** de elementos. Esto significa que una vez creados **no pueden ser modificados**."
   ]
  },
  {
   "cell_type": "code",
   "execution_count": null,
   "id": "3d5f3f41-2212-4c84-a210-10aba3591657",
   "metadata": {},
   "outputs": [],
   "source": [
    "geneList = [\"Irf1\", \"Ccl3\", \"Il12rb1\"] # list of genes\n",
    "geneTuple = (\"Irf1\", \"Ccl3\", \"Il12rb1\") # tuple of genes\n",
    "\n",
    "geneList[0] = \"Irf2\" # this is allowed\n",
    "geneTuple[0] = \"Irf2\" # this will throw an error"
   ]
  },
  {
   "cell_type": "markdown",
   "id": "cea600c7-2e11-4e26-8b98-edb8dc97e774",
   "metadata": {},
   "source": [
    "Lo que podemos hacer para modificarlo es simplemente generar un tuple nuevo, y destruir el anterior."
   ]
  },
  {
   "cell_type": "code",
   "execution_count": null,
   "id": "44a3ebe4-48c1-4fc4-b326-0e0fd5e98b7d",
   "metadata": {},
   "outputs": [],
   "source": [
    "geneTuple = (\"Irf1\", \"Ccl3\", \"Il12rb1\") # tuple of genes\n",
    "geneTuple = (\"Irf2\", \"Ccl3\", \"Il12rb1\") # destroy geneTuple and create a new one"
   ]
  },
  {
   "cell_type": "markdown",
   "id": "a6c017d8-7c8c-41bd-8f77-f77566da30ac",
   "metadata": {},
   "source": [
    "Un tipo especial de tuples son los **rangos**, que se usan para iterar de esta forma:"
   ]
  },
  {
   "cell_type": "code",
   "execution_count": null,
   "id": "2fbfebfb-93df-42f9-a326-ff6fb65ce132",
   "metadata": {},
   "outputs": [],
   "source": [
    "for i in range(1, 10, 2): # create integers from 1 to 10 (not inclusive) in steps of 2\n",
    "    print(i)"
   ]
  },
  {
   "cell_type": "markdown",
   "id": "c64f5515-7276-43ff-8e5e-445eb9b79cd0",
   "metadata": {},
   "source": [
    "## 2 - Diccionarios: {\"key\" : value}\n",
    "Son una de las herramientas más potentes de Python, una especie de array con nombres. \n",
    "Son contenedores **ORDENADOS** (recuerdan el orden de entrada y lo mantienen) y **MUTABLES**."
   ]
  },
  {
   "cell_type": "code",
   "execution_count": null,
   "id": "b288fa75-bde0-4b4e-856f-545db4420231",
   "metadata": {},
   "outputs": [],
   "source": [
    "#Dictionaries are particularly useful to store parameters of a model for example. It is easier to access these parameters by their name, \n",
    "#rather than remembering in what order they were put in a list.\n",
    "myParam = {\"beta\": 0.2, \"gamma\": 1.3, \"delta\": 0.4}\n",
    "myParam[\"delta\"] # access the delta parameter"
   ]
  },
  {
   "cell_type": "markdown",
   "id": "63d1e676-370a-4b66-bbb1-b94c35a93342",
   "metadata": {},
   "source": [
    "Sin embargo pueden estar **ANIDADOS**, y contener todo tipo de contenedores dentro, por lo que son especialemente buenos para guardar **DATOS NO ESTRUCTURADOS** (como por ejemplo redes de interacción con información de los nodos y links)."
   ]
  },
  {
   "cell_type": "code",
   "execution_count": null,
   "id": "360aa610-665b-40e7-9240-25c830bc494d",
   "metadata": {},
   "outputs": [],
   "source": [
    "Estudiantes={\"María\"  : {\"Inglés\": 4.5, \"Matemáticas\":9, \"Música\":8, \"Grupo\":[\"Antonio\", \"Lola\", \"Enrique\"] } ,\n",
    "             \"Antonio\": {\"Inglés\": 8, \"Matemáticas\":6, \"Música\":3, \"Grupo\":[\"Antonio\", \"Lola\"] },\n",
    "             \"Luisa\"  : {\"Inglés\": 5, \"Matemáticas\":7, \"Música\":5, \"Grupo\":[\"Enrique\", \"Manoli\",\"Julio\"] }}"
   ]
  },
  {
   "cell_type": "code",
   "execution_count": null,
   "id": "817f4df7-ffe8-48cf-a512-1c910a40ea54",
   "metadata": {},
   "outputs": [],
   "source": [
    "Estudiantes[\"Luisa\"][\"Matemáticas\"]"
   ]
  },
  {
   "cell_type": "markdown",
   "id": "ed1ed6a6-8443-4321-a014-904eacc37e57",
   "metadata": {},
   "source": [
    "## 3 - Numpy Arrays: ndarray\n",
    "Son arrays usualmente numéricos (aunque pueden contener cualquier tipo de los datos básicos vistos) que pueden tener varias dimensiones. Se usan para el cálculo matricial, y vectorizar operaciones."
   ]
  },
  {
   "cell_type": "code",
   "execution_count": null,
   "id": "0c589b2a-d222-4b47-b3b9-a809f3d9231f",
   "metadata": {},
   "outputs": [],
   "source": [
    "a = np.array([2, 3, 4])\n",
    "type(a)"
   ]
  },
  {
   "cell_type": "code",
   "execution_count": null,
   "id": "6f2533c7-c082-4447-ad90-563feb12d60e",
   "metadata": {},
   "outputs": [],
   "source": [
    "a = np.arange(15).reshape(3, 5)\n",
    "a"
   ]
  },
  {
   "cell_type": "code",
   "execution_count": null,
   "id": "ebe6abf5-56f4-495e-876d-2107ee61fc65",
   "metadata": {},
   "outputs": [],
   "source": [
    "a.shape"
   ]
  },
  {
   "cell_type": "markdown",
   "id": "fb467b42-7367-488f-a249-be64665f45c8",
   "metadata": {},
   "source": [
    "## 4 - DataFrames: pd.DataFrame\n",
    "\n",
    "Las DataFrames son similares a las de R, y se usan para contener datos **ESTRUCTURADOS**, **ORDENADOS**, y **MUTABLES**. \n",
    "Son una forma de guardar información INDEXADA.\n",
    "Para trabajar con ellos usaremos la libreria Pandas, que vamos a ver más en detalle, ya que el trabajo con este tipo de datos es la parte central del taller."
   ]
  }
 ],
 "metadata": {
  "kernelspec": {
   "display_name": "Python 3 (ipykernel)",
   "language": "python",
   "name": "python3"
  },
  "language_info": {
   "codemirror_mode": {
    "name": "ipython",
    "version": 3
   },
   "file_extension": ".py",
   "mimetype": "text/x-python",
   "name": "python",
   "nbconvert_exporter": "python",
   "pygments_lexer": "ipython3",
   "version": "3.9.12"
  }
 },
 "nbformat": 4,
 "nbformat_minor": 5
}
